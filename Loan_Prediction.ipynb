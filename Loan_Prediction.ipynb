{
 "cells": [
  {
   "cell_type": "markdown",
   "metadata": {},
   "source": [
    "## Problem Statement -\n",
    "\n",
    "Dream Housing Finance company deals in all kinds of home loans. They have presence across all urban, semi urban and rural areas. Customer first applies for home loan and after that company validates the customer eligibility for loan.\n",
    "\n",
    "Company wants to automate the loan eligibility process (real time) based on customer detail provided while filling online application form. These details are Gender, Marital Status, Education, Number of Dependents, Income, Loan Amount, Credit History and others.\n",
    "\n",
    "## Hypothesis - \n",
    "    \n",
    "    1. Income group high or low. If income is high / low do loan get approved or not\n",
    "    2. employment nature of applicant.\n",
    "    3. Credit History of applicant - if Credit_History is good their is high chance of getting Loan Approved.\n",
    "    4. Loan Amount applied for loan - if Loan Amount less / small then chances are high for Loan Approved.\n",
    "    5. Lesser the amount repay monthly, higher the chances for Loan Approved.\n",
    "    6. for how many Terms loan required- if term of loan is shorter, the chances of loan get approved is high."
   ]
  },
  {
   "cell_type": "markdown",
   "metadata": {},
   "source": [
    "# IMPORTING LIBARIES"
   ]
  },
  {
   "cell_type": "code",
   "execution_count": 1,
   "metadata": {},
   "outputs": [],
   "source": [
    "import pandas as pd\n",
    "import numpy as np # for mathematical calculation\n",
    "import matplotlib.pyplot as plt # for plotting graphs \n",
    "%matplotlib inline\n",
    "import seaborn as sns # for data visiualization\n",
    "\n",
    "from sklearn.model_selection import train_test_split # importing libariry for splitting daataframe into train_test\n",
    "from sklearn.linear_model import LogisticRegression\n",
    "from sklearn.metrics import accuracy_score\n",
    "from sklearn.model_selection import StratifiedKFold # import Startified K-Fold model from sklearn\n",
    "from sklearn.metrics import roc_curve, auc\n",
    "from sklearn import metrics\n",
    "\n",
    "import warnings # to ingonre warnings\n",
    "warnings.filterwarnings(\"ignore\")"
   ]
  },
  {
   "cell_type": "code",
   "execution_count": 2,
   "metadata": {},
   "outputs": [
    {
     "data": {
      "text/html": [
       "<div>\n",
       "<style scoped>\n",
       "    .dataframe tbody tr th:only-of-type {\n",
       "        vertical-align: middle;\n",
       "    }\n",
       "\n",
       "    .dataframe tbody tr th {\n",
       "        vertical-align: top;\n",
       "    }\n",
       "\n",
       "    .dataframe thead th {\n",
       "        text-align: right;\n",
       "    }\n",
       "</style>\n",
       "<table border=\"1\" class=\"dataframe\">\n",
       "  <thead>\n",
       "    <tr style=\"text-align: right;\">\n",
       "      <th></th>\n",
       "      <th>Loan_ID</th>\n",
       "      <th>Gender</th>\n",
       "      <th>Married</th>\n",
       "      <th>Dependents</th>\n",
       "      <th>Education</th>\n",
       "      <th>Self_Employed</th>\n",
       "      <th>ApplicantIncome</th>\n",
       "      <th>CoapplicantIncome</th>\n",
       "      <th>LoanAmount</th>\n",
       "      <th>Loan_Amount_Term</th>\n",
       "      <th>Credit_History</th>\n",
       "      <th>Property_Area</th>\n",
       "      <th>Loan_Status</th>\n",
       "    </tr>\n",
       "  </thead>\n",
       "  <tbody>\n",
       "    <tr>\n",
       "      <th>0</th>\n",
       "      <td>LP001002</td>\n",
       "      <td>Male</td>\n",
       "      <td>No</td>\n",
       "      <td>0</td>\n",
       "      <td>Graduate</td>\n",
       "      <td>No</td>\n",
       "      <td>5849</td>\n",
       "      <td>0.0</td>\n",
       "      <td>NaN</td>\n",
       "      <td>360.0</td>\n",
       "      <td>1.0</td>\n",
       "      <td>Urban</td>\n",
       "      <td>Y</td>\n",
       "    </tr>\n",
       "    <tr>\n",
       "      <th>1</th>\n",
       "      <td>LP001003</td>\n",
       "      <td>Male</td>\n",
       "      <td>Yes</td>\n",
       "      <td>1</td>\n",
       "      <td>Graduate</td>\n",
       "      <td>No</td>\n",
       "      <td>4583</td>\n",
       "      <td>1508.0</td>\n",
       "      <td>128.0</td>\n",
       "      <td>360.0</td>\n",
       "      <td>1.0</td>\n",
       "      <td>Rural</td>\n",
       "      <td>N</td>\n",
       "    </tr>\n",
       "    <tr>\n",
       "      <th>2</th>\n",
       "      <td>LP001005</td>\n",
       "      <td>Male</td>\n",
       "      <td>Yes</td>\n",
       "      <td>0</td>\n",
       "      <td>Graduate</td>\n",
       "      <td>Yes</td>\n",
       "      <td>3000</td>\n",
       "      <td>0.0</td>\n",
       "      <td>66.0</td>\n",
       "      <td>360.0</td>\n",
       "      <td>1.0</td>\n",
       "      <td>Urban</td>\n",
       "      <td>Y</td>\n",
       "    </tr>\n",
       "    <tr>\n",
       "      <th>3</th>\n",
       "      <td>LP001006</td>\n",
       "      <td>Male</td>\n",
       "      <td>Yes</td>\n",
       "      <td>0</td>\n",
       "      <td>Not Graduate</td>\n",
       "      <td>No</td>\n",
       "      <td>2583</td>\n",
       "      <td>2358.0</td>\n",
       "      <td>120.0</td>\n",
       "      <td>360.0</td>\n",
       "      <td>1.0</td>\n",
       "      <td>Urban</td>\n",
       "      <td>Y</td>\n",
       "    </tr>\n",
       "    <tr>\n",
       "      <th>4</th>\n",
       "      <td>LP001008</td>\n",
       "      <td>Male</td>\n",
       "      <td>No</td>\n",
       "      <td>0</td>\n",
       "      <td>Graduate</td>\n",
       "      <td>No</td>\n",
       "      <td>6000</td>\n",
       "      <td>0.0</td>\n",
       "      <td>141.0</td>\n",
       "      <td>360.0</td>\n",
       "      <td>1.0</td>\n",
       "      <td>Urban</td>\n",
       "      <td>Y</td>\n",
       "    </tr>\n",
       "    <tr>\n",
       "      <th>5</th>\n",
       "      <td>LP001011</td>\n",
       "      <td>Male</td>\n",
       "      <td>Yes</td>\n",
       "      <td>2</td>\n",
       "      <td>Graduate</td>\n",
       "      <td>Yes</td>\n",
       "      <td>5417</td>\n",
       "      <td>4196.0</td>\n",
       "      <td>267.0</td>\n",
       "      <td>360.0</td>\n",
       "      <td>1.0</td>\n",
       "      <td>Urban</td>\n",
       "      <td>Y</td>\n",
       "    </tr>\n",
       "    <tr>\n",
       "      <th>6</th>\n",
       "      <td>LP001013</td>\n",
       "      <td>Male</td>\n",
       "      <td>Yes</td>\n",
       "      <td>0</td>\n",
       "      <td>Not Graduate</td>\n",
       "      <td>No</td>\n",
       "      <td>2333</td>\n",
       "      <td>1516.0</td>\n",
       "      <td>95.0</td>\n",
       "      <td>360.0</td>\n",
       "      <td>1.0</td>\n",
       "      <td>Urban</td>\n",
       "      <td>Y</td>\n",
       "    </tr>\n",
       "    <tr>\n",
       "      <th>7</th>\n",
       "      <td>LP001014</td>\n",
       "      <td>Male</td>\n",
       "      <td>Yes</td>\n",
       "      <td>3+</td>\n",
       "      <td>Graduate</td>\n",
       "      <td>No</td>\n",
       "      <td>3036</td>\n",
       "      <td>2504.0</td>\n",
       "      <td>158.0</td>\n",
       "      <td>360.0</td>\n",
       "      <td>0.0</td>\n",
       "      <td>Semiurban</td>\n",
       "      <td>N</td>\n",
       "    </tr>\n",
       "    <tr>\n",
       "      <th>8</th>\n",
       "      <td>LP001018</td>\n",
       "      <td>Male</td>\n",
       "      <td>Yes</td>\n",
       "      <td>2</td>\n",
       "      <td>Graduate</td>\n",
       "      <td>No</td>\n",
       "      <td>4006</td>\n",
       "      <td>1526.0</td>\n",
       "      <td>168.0</td>\n",
       "      <td>360.0</td>\n",
       "      <td>1.0</td>\n",
       "      <td>Urban</td>\n",
       "      <td>Y</td>\n",
       "    </tr>\n",
       "    <tr>\n",
       "      <th>9</th>\n",
       "      <td>LP001020</td>\n",
       "      <td>Male</td>\n",
       "      <td>Yes</td>\n",
       "      <td>1</td>\n",
       "      <td>Graduate</td>\n",
       "      <td>No</td>\n",
       "      <td>12841</td>\n",
       "      <td>10968.0</td>\n",
       "      <td>349.0</td>\n",
       "      <td>360.0</td>\n",
       "      <td>1.0</td>\n",
       "      <td>Semiurban</td>\n",
       "      <td>N</td>\n",
       "    </tr>\n",
       "  </tbody>\n",
       "</table>\n",
       "</div>"
      ],
      "text/plain": [
       "    Loan_ID Gender Married Dependents     Education Self_Employed  \\\n",
       "0  LP001002   Male      No          0      Graduate            No   \n",
       "1  LP001003   Male     Yes          1      Graduate            No   \n",
       "2  LP001005   Male     Yes          0      Graduate           Yes   \n",
       "3  LP001006   Male     Yes          0  Not Graduate            No   \n",
       "4  LP001008   Male      No          0      Graduate            No   \n",
       "5  LP001011   Male     Yes          2      Graduate           Yes   \n",
       "6  LP001013   Male     Yes          0  Not Graduate            No   \n",
       "7  LP001014   Male     Yes         3+      Graduate            No   \n",
       "8  LP001018   Male     Yes          2      Graduate            No   \n",
       "9  LP001020   Male     Yes          1      Graduate            No   \n",
       "\n",
       "   ApplicantIncome  CoapplicantIncome  LoanAmount  Loan_Amount_Term  \\\n",
       "0             5849                0.0         NaN             360.0   \n",
       "1             4583             1508.0       128.0             360.0   \n",
       "2             3000                0.0        66.0             360.0   \n",
       "3             2583             2358.0       120.0             360.0   \n",
       "4             6000                0.0       141.0             360.0   \n",
       "5             5417             4196.0       267.0             360.0   \n",
       "6             2333             1516.0        95.0             360.0   \n",
       "7             3036             2504.0       158.0             360.0   \n",
       "8             4006             1526.0       168.0             360.0   \n",
       "9            12841            10968.0       349.0             360.0   \n",
       "\n",
       "   Credit_History Property_Area Loan_Status  \n",
       "0             1.0         Urban           Y  \n",
       "1             1.0         Rural           N  \n",
       "2             1.0         Urban           Y  \n",
       "3             1.0         Urban           Y  \n",
       "4             1.0         Urban           Y  \n",
       "5             1.0         Urban           Y  \n",
       "6             1.0         Urban           Y  \n",
       "7             0.0     Semiurban           N  \n",
       "8             1.0         Urban           Y  \n",
       "9             1.0     Semiurban           N  "
      ]
     },
     "execution_count": 2,
     "metadata": {},
     "output_type": "execute_result"
    }
   ],
   "source": [
    "train = pd.read_csv(\"C:/Users/sharmila_biyani/Documents/Analytics_Vidya/Loan Prediction Project/Loan_train.csv\")\n",
    "train.head(10)"
   ]
  },
  {
   "cell_type": "code",
   "execution_count": 3,
   "metadata": {},
   "outputs": [
    {
     "data": {
      "text/html": [
       "<div>\n",
       "<style scoped>\n",
       "    .dataframe tbody tr th:only-of-type {\n",
       "        vertical-align: middle;\n",
       "    }\n",
       "\n",
       "    .dataframe tbody tr th {\n",
       "        vertical-align: top;\n",
       "    }\n",
       "\n",
       "    .dataframe thead th {\n",
       "        text-align: right;\n",
       "    }\n",
       "</style>\n",
       "<table border=\"1\" class=\"dataframe\">\n",
       "  <thead>\n",
       "    <tr style=\"text-align: right;\">\n",
       "      <th></th>\n",
       "      <th>Loan_ID</th>\n",
       "      <th>Gender</th>\n",
       "      <th>Married</th>\n",
       "      <th>Dependents</th>\n",
       "      <th>Education</th>\n",
       "      <th>Self_Employed</th>\n",
       "      <th>ApplicantIncome</th>\n",
       "      <th>CoapplicantIncome</th>\n",
       "      <th>LoanAmount</th>\n",
       "      <th>Loan_Amount_Term</th>\n",
       "      <th>Credit_History</th>\n",
       "      <th>Property_Area</th>\n",
       "    </tr>\n",
       "  </thead>\n",
       "  <tbody>\n",
       "    <tr>\n",
       "      <th>0</th>\n",
       "      <td>LP001015</td>\n",
       "      <td>Male</td>\n",
       "      <td>Yes</td>\n",
       "      <td>0</td>\n",
       "      <td>Graduate</td>\n",
       "      <td>No</td>\n",
       "      <td>5720</td>\n",
       "      <td>0</td>\n",
       "      <td>110.0</td>\n",
       "      <td>360.0</td>\n",
       "      <td>1.0</td>\n",
       "      <td>Urban</td>\n",
       "    </tr>\n",
       "    <tr>\n",
       "      <th>1</th>\n",
       "      <td>LP001022</td>\n",
       "      <td>Male</td>\n",
       "      <td>Yes</td>\n",
       "      <td>1</td>\n",
       "      <td>Graduate</td>\n",
       "      <td>No</td>\n",
       "      <td>3076</td>\n",
       "      <td>1500</td>\n",
       "      <td>126.0</td>\n",
       "      <td>360.0</td>\n",
       "      <td>1.0</td>\n",
       "      <td>Urban</td>\n",
       "    </tr>\n",
       "    <tr>\n",
       "      <th>2</th>\n",
       "      <td>LP001031</td>\n",
       "      <td>Male</td>\n",
       "      <td>Yes</td>\n",
       "      <td>2</td>\n",
       "      <td>Graduate</td>\n",
       "      <td>No</td>\n",
       "      <td>5000</td>\n",
       "      <td>1800</td>\n",
       "      <td>208.0</td>\n",
       "      <td>360.0</td>\n",
       "      <td>1.0</td>\n",
       "      <td>Urban</td>\n",
       "    </tr>\n",
       "    <tr>\n",
       "      <th>3</th>\n",
       "      <td>LP001035</td>\n",
       "      <td>Male</td>\n",
       "      <td>Yes</td>\n",
       "      <td>2</td>\n",
       "      <td>Graduate</td>\n",
       "      <td>No</td>\n",
       "      <td>2340</td>\n",
       "      <td>2546</td>\n",
       "      <td>100.0</td>\n",
       "      <td>360.0</td>\n",
       "      <td>NaN</td>\n",
       "      <td>Urban</td>\n",
       "    </tr>\n",
       "    <tr>\n",
       "      <th>4</th>\n",
       "      <td>LP001051</td>\n",
       "      <td>Male</td>\n",
       "      <td>No</td>\n",
       "      <td>0</td>\n",
       "      <td>Not Graduate</td>\n",
       "      <td>No</td>\n",
       "      <td>3276</td>\n",
       "      <td>0</td>\n",
       "      <td>78.0</td>\n",
       "      <td>360.0</td>\n",
       "      <td>1.0</td>\n",
       "      <td>Urban</td>\n",
       "    </tr>\n",
       "    <tr>\n",
       "      <th>5</th>\n",
       "      <td>LP001054</td>\n",
       "      <td>Male</td>\n",
       "      <td>Yes</td>\n",
       "      <td>0</td>\n",
       "      <td>Not Graduate</td>\n",
       "      <td>Yes</td>\n",
       "      <td>2165</td>\n",
       "      <td>3422</td>\n",
       "      <td>152.0</td>\n",
       "      <td>360.0</td>\n",
       "      <td>1.0</td>\n",
       "      <td>Urban</td>\n",
       "    </tr>\n",
       "    <tr>\n",
       "      <th>6</th>\n",
       "      <td>LP001055</td>\n",
       "      <td>Female</td>\n",
       "      <td>No</td>\n",
       "      <td>1</td>\n",
       "      <td>Not Graduate</td>\n",
       "      <td>No</td>\n",
       "      <td>2226</td>\n",
       "      <td>0</td>\n",
       "      <td>59.0</td>\n",
       "      <td>360.0</td>\n",
       "      <td>1.0</td>\n",
       "      <td>Semiurban</td>\n",
       "    </tr>\n",
       "    <tr>\n",
       "      <th>7</th>\n",
       "      <td>LP001056</td>\n",
       "      <td>Male</td>\n",
       "      <td>Yes</td>\n",
       "      <td>2</td>\n",
       "      <td>Not Graduate</td>\n",
       "      <td>No</td>\n",
       "      <td>3881</td>\n",
       "      <td>0</td>\n",
       "      <td>147.0</td>\n",
       "      <td>360.0</td>\n",
       "      <td>0.0</td>\n",
       "      <td>Rural</td>\n",
       "    </tr>\n",
       "    <tr>\n",
       "      <th>8</th>\n",
       "      <td>LP001059</td>\n",
       "      <td>Male</td>\n",
       "      <td>Yes</td>\n",
       "      <td>2</td>\n",
       "      <td>Graduate</td>\n",
       "      <td>NaN</td>\n",
       "      <td>13633</td>\n",
       "      <td>0</td>\n",
       "      <td>280.0</td>\n",
       "      <td>240.0</td>\n",
       "      <td>1.0</td>\n",
       "      <td>Urban</td>\n",
       "    </tr>\n",
       "    <tr>\n",
       "      <th>9</th>\n",
       "      <td>LP001067</td>\n",
       "      <td>Male</td>\n",
       "      <td>No</td>\n",
       "      <td>0</td>\n",
       "      <td>Not Graduate</td>\n",
       "      <td>No</td>\n",
       "      <td>2400</td>\n",
       "      <td>2400</td>\n",
       "      <td>123.0</td>\n",
       "      <td>360.0</td>\n",
       "      <td>1.0</td>\n",
       "      <td>Semiurban</td>\n",
       "    </tr>\n",
       "  </tbody>\n",
       "</table>\n",
       "</div>"
      ],
      "text/plain": [
       "    Loan_ID  Gender Married Dependents     Education Self_Employed  \\\n",
       "0  LP001015    Male     Yes          0      Graduate            No   \n",
       "1  LP001022    Male     Yes          1      Graduate            No   \n",
       "2  LP001031    Male     Yes          2      Graduate            No   \n",
       "3  LP001035    Male     Yes          2      Graduate            No   \n",
       "4  LP001051    Male      No          0  Not Graduate            No   \n",
       "5  LP001054    Male     Yes          0  Not Graduate           Yes   \n",
       "6  LP001055  Female      No          1  Not Graduate            No   \n",
       "7  LP001056    Male     Yes          2  Not Graduate            No   \n",
       "8  LP001059    Male     Yes          2      Graduate           NaN   \n",
       "9  LP001067    Male      No          0  Not Graduate            No   \n",
       "\n",
       "   ApplicantIncome  CoapplicantIncome  LoanAmount  Loan_Amount_Term  \\\n",
       "0             5720                  0       110.0             360.0   \n",
       "1             3076               1500       126.0             360.0   \n",
       "2             5000               1800       208.0             360.0   \n",
       "3             2340               2546       100.0             360.0   \n",
       "4             3276                  0        78.0             360.0   \n",
       "5             2165               3422       152.0             360.0   \n",
       "6             2226                  0        59.0             360.0   \n",
       "7             3881                  0       147.0             360.0   \n",
       "8            13633                  0       280.0             240.0   \n",
       "9             2400               2400       123.0             360.0   \n",
       "\n",
       "   Credit_History Property_Area  \n",
       "0             1.0         Urban  \n",
       "1             1.0         Urban  \n",
       "2             1.0         Urban  \n",
       "3             NaN         Urban  \n",
       "4             1.0         Urban  \n",
       "5             1.0         Urban  \n",
       "6             1.0     Semiurban  \n",
       "7             0.0         Rural  \n",
       "8             1.0         Urban  \n",
       "9             1.0     Semiurban  "
      ]
     },
     "execution_count": 3,
     "metadata": {},
     "output_type": "execute_result"
    }
   ],
   "source": [
    "test = pd.read_csv(\"C:/Users/sharmila_biyani/Documents/Analytics_Vidya/Loan Prediction Project/Loan_test.csv\")\n",
    "test.head(10)"
   ]
  },
  {
   "cell_type": "code",
   "execution_count": 4,
   "metadata": {},
   "outputs": [
    {
     "name": "stdout",
     "output_type": "stream",
     "text": [
      "<class 'pandas.core.frame.DataFrame'>\n",
      "RangeIndex: 614 entries, 0 to 613\n",
      "Data columns (total 13 columns):\n",
      " #   Column             Non-Null Count  Dtype  \n",
      "---  ------             --------------  -----  \n",
      " 0   Loan_ID            614 non-null    object \n",
      " 1   Gender             601 non-null    object \n",
      " 2   Married            611 non-null    object \n",
      " 3   Dependents         599 non-null    object \n",
      " 4   Education          614 non-null    object \n",
      " 5   Self_Employed      582 non-null    object \n",
      " 6   ApplicantIncome    614 non-null    int64  \n",
      " 7   CoapplicantIncome  614 non-null    float64\n",
      " 8   LoanAmount         592 non-null    float64\n",
      " 9   Loan_Amount_Term   600 non-null    float64\n",
      " 10  Credit_History     564 non-null    float64\n",
      " 11  Property_Area      614 non-null    object \n",
      " 12  Loan_Status        614 non-null    object \n",
      "dtypes: float64(4), int64(1), object(8)\n",
      "memory usage: 62.5+ KB\n",
      "<class 'pandas.core.frame.DataFrame'>\n",
      "RangeIndex: 367 entries, 0 to 366\n",
      "Data columns (total 12 columns):\n",
      " #   Column             Non-Null Count  Dtype  \n",
      "---  ------             --------------  -----  \n",
      " 0   Loan_ID            367 non-null    object \n",
      " 1   Gender             356 non-null    object \n",
      " 2   Married            367 non-null    object \n",
      " 3   Dependents         357 non-null    object \n",
      " 4   Education          367 non-null    object \n",
      " 5   Self_Employed      344 non-null    object \n",
      " 6   ApplicantIncome    367 non-null    int64  \n",
      " 7   CoapplicantIncome  367 non-null    int64  \n",
      " 8   LoanAmount         362 non-null    float64\n",
      " 9   Loan_Amount_Term   361 non-null    float64\n",
      " 10  Credit_History     338 non-null    float64\n",
      " 11  Property_Area      367 non-null    object \n",
      "dtypes: float64(3), int64(2), object(7)\n",
      "memory usage: 34.5+ KB\n"
     ]
    }
   ],
   "source": [
    "train.info()\n",
    "test.info()"
   ]
  },
  {
   "cell_type": "code",
   "execution_count": 5,
   "metadata": {},
   "outputs": [],
   "source": [
    "df1 = train.copy()\n",
    "df2 = test.copy()"
   ]
  },
  {
   "cell_type": "code",
   "execution_count": 6,
   "metadata": {},
   "outputs": [
    {
     "data": {
      "text/plain": [
       "Index(['Loan_ID', 'Gender', 'Married', 'Dependents', 'Education',\n",
       "       'Self_Employed', 'ApplicantIncome', 'CoapplicantIncome', 'LoanAmount',\n",
       "       'Loan_Amount_Term', 'Credit_History', 'Property_Area', 'Loan_Status'],\n",
       "      dtype='object')"
      ]
     },
     "execution_count": 6,
     "metadata": {},
     "output_type": "execute_result"
    }
   ],
   "source": [
    "df1.columns\n",
    "# df2.columns"
   ]
  },
  {
   "cell_type": "code",
   "execution_count": 7,
   "metadata": {},
   "outputs": [
    {
     "data": {
      "text/plain": [
       "Index(['Loan_ID', 'Gender', 'Married', 'Dependents', 'Education',\n",
       "       'Self_Employed', 'ApplicantIncome', 'CoapplicantIncome', 'LoanAmount',\n",
       "       'Loan_Amount_Term', 'Credit_History', 'Property_Area'],\n",
       "      dtype='object')"
      ]
     },
     "execution_count": 7,
     "metadata": {},
     "output_type": "execute_result"
    }
   ],
   "source": [
    "df2.columns"
   ]
  },
  {
   "cell_type": "code",
   "execution_count": 8,
   "metadata": {},
   "outputs": [
    {
     "data": {
      "text/plain": [
       "((614, 13), (367, 12))"
      ]
     },
     "execution_count": 8,
     "metadata": {},
     "output_type": "execute_result"
    }
   ],
   "source": [
    "df1.shape, df2.shape"
   ]
  },
  {
   "cell_type": "code",
   "execution_count": 9,
   "metadata": {},
   "outputs": [
    {
     "data": {
      "text/html": [
       "<div>\n",
       "<style scoped>\n",
       "    .dataframe tbody tr th:only-of-type {\n",
       "        vertical-align: middle;\n",
       "    }\n",
       "\n",
       "    .dataframe tbody tr th {\n",
       "        vertical-align: top;\n",
       "    }\n",
       "\n",
       "    .dataframe thead th {\n",
       "        text-align: right;\n",
       "    }\n",
       "</style>\n",
       "<table border=\"1\" class=\"dataframe\">\n",
       "  <thead>\n",
       "    <tr style=\"text-align: right;\">\n",
       "      <th></th>\n",
       "      <th>ApplicantIncome</th>\n",
       "      <th>CoapplicantIncome</th>\n",
       "      <th>LoanAmount</th>\n",
       "      <th>Loan_Amount_Term</th>\n",
       "      <th>Credit_History</th>\n",
       "    </tr>\n",
       "  </thead>\n",
       "  <tbody>\n",
       "    <tr>\n",
       "      <th>count</th>\n",
       "      <td>614.000000</td>\n",
       "      <td>614.000000</td>\n",
       "      <td>592.000000</td>\n",
       "      <td>600.00000</td>\n",
       "      <td>564.000000</td>\n",
       "    </tr>\n",
       "    <tr>\n",
       "      <th>mean</th>\n",
       "      <td>5403.459283</td>\n",
       "      <td>1621.245798</td>\n",
       "      <td>146.412162</td>\n",
       "      <td>342.00000</td>\n",
       "      <td>0.842199</td>\n",
       "    </tr>\n",
       "    <tr>\n",
       "      <th>std</th>\n",
       "      <td>6109.041673</td>\n",
       "      <td>2926.248369</td>\n",
       "      <td>85.587325</td>\n",
       "      <td>65.12041</td>\n",
       "      <td>0.364878</td>\n",
       "    </tr>\n",
       "    <tr>\n",
       "      <th>min</th>\n",
       "      <td>150.000000</td>\n",
       "      <td>0.000000</td>\n",
       "      <td>9.000000</td>\n",
       "      <td>12.00000</td>\n",
       "      <td>0.000000</td>\n",
       "    </tr>\n",
       "    <tr>\n",
       "      <th>25%</th>\n",
       "      <td>2877.500000</td>\n",
       "      <td>0.000000</td>\n",
       "      <td>100.000000</td>\n",
       "      <td>360.00000</td>\n",
       "      <td>1.000000</td>\n",
       "    </tr>\n",
       "    <tr>\n",
       "      <th>50%</th>\n",
       "      <td>3812.500000</td>\n",
       "      <td>1188.500000</td>\n",
       "      <td>128.000000</td>\n",
       "      <td>360.00000</td>\n",
       "      <td>1.000000</td>\n",
       "    </tr>\n",
       "    <tr>\n",
       "      <th>75%</th>\n",
       "      <td>5795.000000</td>\n",
       "      <td>2297.250000</td>\n",
       "      <td>168.000000</td>\n",
       "      <td>360.00000</td>\n",
       "      <td>1.000000</td>\n",
       "    </tr>\n",
       "    <tr>\n",
       "      <th>max</th>\n",
       "      <td>81000.000000</td>\n",
       "      <td>41667.000000</td>\n",
       "      <td>700.000000</td>\n",
       "      <td>480.00000</td>\n",
       "      <td>1.000000</td>\n",
       "    </tr>\n",
       "  </tbody>\n",
       "</table>\n",
       "</div>"
      ],
      "text/plain": [
       "       ApplicantIncome  CoapplicantIncome  LoanAmount  Loan_Amount_Term  \\\n",
       "count       614.000000         614.000000  592.000000         600.00000   \n",
       "mean       5403.459283        1621.245798  146.412162         342.00000   \n",
       "std        6109.041673        2926.248369   85.587325          65.12041   \n",
       "min         150.000000           0.000000    9.000000          12.00000   \n",
       "25%        2877.500000           0.000000  100.000000         360.00000   \n",
       "50%        3812.500000        1188.500000  128.000000         360.00000   \n",
       "75%        5795.000000        2297.250000  168.000000         360.00000   \n",
       "max       81000.000000       41667.000000  700.000000         480.00000   \n",
       "\n",
       "       Credit_History  \n",
       "count      564.000000  \n",
       "mean         0.842199  \n",
       "std          0.364878  \n",
       "min          0.000000  \n",
       "25%          1.000000  \n",
       "50%          1.000000  \n",
       "75%          1.000000  \n",
       "max          1.000000  "
      ]
     },
     "execution_count": 9,
     "metadata": {},
     "output_type": "execute_result"
    }
   ],
   "source": [
    "df1.describe()"
   ]
  },
  {
   "cell_type": "markdown",
   "metadata": {},
   "source": [
    "# Univariate Analysis"
   ]
  },
  {
   "cell_type": "markdown",
   "metadata": {},
   "source": [
    "# Target Variable - Loan Status"
   ]
  },
  {
   "cell_type": "code",
   "execution_count": 10,
   "metadata": {},
   "outputs": [
    {
     "data": {
      "text/plain": [
       "Y    0.687296\n",
       "N    0.312704\n",
       "Name: Loan_Status, dtype: float64"
      ]
     },
     "execution_count": 10,
     "metadata": {},
     "output_type": "execute_result"
    }
   ],
   "source": [
    "# normalization is True which print Loan Status propertionate \n",
    "df1[\"Loan_Status\"].value_counts(normalize = True)\n",
    "\n",
    "# Normalization means the total propertinate / share in 100% of particular value"
   ]
  },
  {
   "cell_type": "code",
   "execution_count": 11,
   "metadata": {},
   "outputs": [
    {
     "data": {
      "text/plain": [
       "<matplotlib.axes._subplots.AxesSubplot at 0x84c601a250>"
      ]
     },
     "execution_count": 11,
     "metadata": {},
     "output_type": "execute_result"
    },
    {
     "data": {
      "image/png": "[encoded data removed]",
      "text/plain": [
       "<Figure size 720x432 with 1 Axes>"
      ]
     },
     "metadata": {
      "needs_background": "light"
     },
     "output_type": "display_data"
    }
   ],
   "source": [
    "# Plotting bargraph for target variable\n",
    "df1[\"Loan_Status\"].value_counts(normalize = False).plot.bar(figsize = (10,6))"
   ]
  },
  {
   "cell_type": "raw",
   "metadata": {},
   "source": [
    "OBSERVATIONS -\n",
    "    1. 694 applications received for Loan, out-of that 69% were approved and remaining 31% rejected.\n",
    "    2. 69%, i.e., 422 Loan applications were approved.\n",
    "    3. 31%, i.e., 192 Loan applications were rejected.\n"
   ]
  },
  {
   "cell_type": "markdown",
   "metadata": {},
   "source": [
    "# Independent Variables (Categorical Variables)"
   ]
  },
  {
   "cell_type": "code",
   "execution_count": 12,
   "metadata": {},
   "outputs": [
    {
     "data": {
      "image/png": "[encoded data removed]",
      "text/plain": [
       "<Figure size 1440x720 with 4 Axes>"
      ]
     },
     "metadata": {
      "needs_background": "light"
     },
     "output_type": "display_data"
    }
   ],
   "source": [
    "plt.figure(1)\n",
    "plt.subplot(221)\n",
    "df1[\"Gender\"].value_counts(normalize = True).plot.bar(title = \"Gender\")\n",
    "plt.subplot(222) \n",
    "df1.Married.value_counts(normalize = True).plot.bar(title = 'Married')\n",
    "plt.subplot(223) \n",
    "df1[\"Self_Employed\"].value_counts().plot.bar(title = \"Employment\")\n",
    "plt.subplot(224)\n",
    "df1.Credit_History.value_counts(normalize = True).plot.bar(figsize = (20,10), title = \"Credit_History\")\n",
    "\n",
    "plt.show()"
   ]
  },
  {
   "cell_type": "raw",
   "metadata": {},
   "source": [
    "OBSERVATION -\n",
    "    1. On Credit History Basis, around 84%, i.e., 475, are having 1.0 credit history & about 16%, i.e., 89, are having 0.0 credit history.\n",
    "        from above we can assume that 84% applicant are already repaid their existing loans debts.\n",
    "        while 16% are new borrower who never had any loan or borrowing from any other sources or not paid their debts or defaulter.\n",
    "        \n",
    "    2. On Gender basis, around 81%, i.e., 489, are male applicant and around 19%, i.e., 112 are female applicant.\n",
    "        Here, we can say male borrowes more as compared to female counter parts.\n",
    "        we can assume that, may be male requires more money as compare to female.\n",
    "        \n",
    "    3. On the Basis of Mritial Status, about 65%, i.e., 398, are married while about 35%, i.e., 213, are not married.\n",
    "        Here, we can say, 2/3rd applicants are married as well as 1/3rd are unmarried. here we can say married people wants more money that's why their are 65% applicants are married.\n",
    "        Assumptions - for Married - amount borrowed for 1. marriage, 2. purchase of assets, 3. spouse health issues, 4. childeren's education, 5. Repay of old borrowings with new one\n",
    "                      for Unmarried - reason for borrowing for 1. Education Purpose, 2. Purchase of Assets, 3. Parents Health Issues, etc.\n",
    "                      \n",
    "    4. On the Basis of Employment, about 86%, i.e., 500, applicants are not self-employed while 14%, i.e., 82 are self-employed.\n",
    "        Here, we can say that, non-self-employed people borrows more money in the form of Loan while self-employed people borrows very less.\n",
    "        Why Borrow - self-employed - 1. for Business purpose mostly.\n",
    "                    non-self-employed - for many reasons (refer above.)"
   ]
  },
  {
   "cell_type": "code",
   "execution_count": 13,
   "metadata": {},
   "outputs": [
    {
     "data": {
      "image/png": "[encoded data removed]",
      "text/plain": [
       "<Figure size 1440x720 with 4 Axes>"
      ]
     },
     "metadata": {
      "needs_background": "light"
     },
     "output_type": "display_data"
    }
   ],
   "source": [
    "plt.figure(1)\n",
    "plt.subplot(331)\n",
    "df1[\"Gender\"].value_counts().plot.bar(figsize = (20,10), title = \"Gender\")\n",
    "plt.subplot(332) \n",
    "df1.Married.value_counts().plot.bar(title = 'Married')\n",
    "plt.subplot(333) \n",
    "df1[\"Self_Employed\"].value_counts().plot.bar(title = \"Employment\")\n",
    "plt.subplot(334)\n",
    "df1.Credit_History.value_counts().plot.bar(title = \"Credit_History\")\n",
    "\n",
    "plt.show()"
   ]
  },
  {
   "cell_type": "code",
   "execution_count": 14,
   "metadata": {},
   "outputs": [
    {
     "data": {
      "image/png": "[encoded data removed]",
      "text/plain": [
       "<Figure size 1440x432 with 3 Axes>"
      ]
     },
     "metadata": {
      "needs_background": "light"
     },
     "output_type": "display_data"
    }
   ],
   "source": [
    "plt.figure(1)\n",
    "plt.subplot(131) \n",
    "df1.Dependents.value_counts(normalize = True).plot.bar(figsize=(20,6), title = 'Dependents')\n",
    "plt.subplot(132) \n",
    "df1.Education.value_counts(normalize = True).plot.bar(title = 'Education')\n",
    "plt.subplot(133)\n",
    "df1.Property_Area.value_counts(normalize = True).plot.bar(title = 'Property_Area')\n",
    "plt.show()"
   ]
  },
  {
   "cell_type": "markdown",
   "metadata": {},
   "source": [
    "OBSERVATIONS -\n",
    "\n",
    "    1. On the basis of Dependents, about 57%, i.e., 345 applicants doesn't have any dependents are most while about 9%,i.e., 51 applicants are having 3+ dependents are least.\n",
    "        while 1 dependent & 2 dependent borrower are arount 17% each. But had no dependents borrowered or applied  highest in all.\n",
    "        \n",
    "    2. On the Basis of Education, 78% ,i.e., 480 applicants are Graduate while 22% ,i.e., 134 applicants are non-Graduate.\n",
    "        Graduate applicants are applied for loan are higher than Non-Graduate.\n",
    "        \n",
    "    3. On the basis of Property Area, Semi-Urban contributes about 38%, which are highest as compared to other areas, i.e., Urban (33%), & Rural (29%) respectively\n",
    "    "
   ]
  },
  {
   "cell_type": "markdown",
   "metadata": {},
   "source": [
    "# Independent Variable (Numerical)"
   ]
  },
  {
   "cell_type": "code",
   "execution_count": 15,
   "metadata": {},
   "outputs": [
    {
     "data": {
      "image/png": "[encoded data removed]",
      "text/plain": [
       "<Figure size 1296x432 with 2 Axes>"
      ]
     },
     "metadata": {
      "needs_background": "light"
     },
     "output_type": "display_data"
    }
   ],
   "source": [
    "# Applicant Income\n",
    "\n",
    "plt.figure(1)\n",
    "plt.subplot(121)\n",
    "sns.distplot(df1.ApplicantIncome)\n",
    "plt.subplot(122)\n",
    "df1.ApplicantIncome.plot.box(figsize = (18,6))\n",
    "plt.show()"
   ]
  },
  {
   "cell_type": "raw",
   "metadata": {},
   "source": [
    "OBSERVATION -\n",
    "    It can be inferred that mostly Applicant Income were distributed towards left, it means that the Applicant Income were not normally distributed.\n",
    "    The Boxplot shows the presence of the a lot of outliers / extreame values. This can be attributed to the income gap in the society.\n",
    "        Further"
   ]
  },
  {
   "cell_type": "code",
   "execution_count": 16,
   "metadata": {},
   "outputs": [
    {
     "data": {
      "text/plain": [
       "Text(0.5, 0.98, ' ')"
      ]
     },
     "execution_count": 16,
     "metadata": {},
     "output_type": "execute_result"
    },
    {
     "data": {
      "image/png": "[encoded data removed]",
      "text/plain": [
       "<Figure size 432x288 with 1 Axes>"
      ]
     },
     "metadata": {
      "needs_background": "light"
     },
     "output_type": "display_data"
    }
   ],
   "source": [
    "plt.figsize = (20,9)\n",
    "df1.boxplot(column = \"ApplicantIncome\", by = \"Education\", vert = True)\n",
    "plt.suptitle(\" \")"
   ]
  },
  {
   "cell_type": "raw",
   "metadata": {},
   "source": [
    "From above Boxplot, we can observe that their is higher number of Graduates with high incomes are appeared as outliers."
   ]
  },
  {
   "cell_type": "code",
   "execution_count": 17,
   "metadata": {},
   "outputs": [
    {
     "data": {
      "image/png": "[encoded data removed]",
      "text/plain": [
       "<Figure size 1296x432 with 2 Axes>"
      ]
     },
     "metadata": {
      "needs_background": "light"
     },
     "output_type": "display_data"
    }
   ],
   "source": [
    "# Coapplicants Income Distributions\n",
    "\n",
    "plt.subplot(121)\n",
    "sns.distplot(df1.CoapplicantIncome)\n",
    "plt.subplot(122)\n",
    "df1.CoapplicantIncome.plot.box(figsize = (18,6))\n",
    "plt.show()"
   ]
  },
  {
   "cell_type": "raw",
   "metadata": {},
   "source": [
    "    Above plots shows similarity with Applicant Income plot as well as it also shows lot off outliers to.\n",
    "        this means the Coappilant Income were not normally distributed."
   ]
  },
  {
   "cell_type": "code",
   "execution_count": 18,
   "metadata": {},
   "outputs": [
    {
     "data": {
      "image/png": "[encoded data removed]",
      "text/plain": [
       "<Figure size 1296x432 with 2 Axes>"
      ]
     },
     "metadata": {
      "needs_background": "light"
     },
     "output_type": "display_data"
    }
   ],
   "source": [
    "# Distribution of Loan Amounts\n",
    "\n",
    "plt.subplot(121)\n",
    "sns.distplot(df1.LoanAmount)\n",
    "plt.subplot(122)\n",
    "df1.LoanAmount.plot.box(figsize = (18,6))\n",
    "plt.show()\n",
    "\n",
    "    # from following plot we see their are a lot of outliers and distribution is fairly normal."
   ]
  },
  {
   "cell_type": "markdown",
   "metadata": {},
   "source": [
    "# BIVARIANTE ANALYSIS"
   ]
  },
  {
   "cell_type": "code",
   "execution_count": 19,
   "metadata": {},
   "outputs": [
    {
     "data": {
      "text/plain": [
       "<matplotlib.axes._subplots.AxesSubplot at 0x84c6756490>"
      ]
     },
     "execution_count": 19,
     "metadata": {},
     "output_type": "execute_result"
    },
    {
     "data": {
      "image/png": "[encoded data removed]",
      "text/plain": [
       "<Figure size 432x432 with 1 Axes>"
      ]
     },
     "metadata": {
      "needs_background": "light"
     },
     "output_type": "display_data"
    }
   ],
   "source": [
    "Gender1 = pd.crosstab(df1.Gender, df1.Loan_Status)\n",
    "Gender1.div(Gender1.sum(1).astype(float), axis = 0).plot(kind = \"bar\", stacked = True, figsize = (6,6))\n",
    "\n",
    "\n",
    "    # The proportion of male and female applicants is \n",
    "        # for approval is 69% & 67% respectively   \n",
    "        # for unapproval is 31% & 33% respectively"
   ]
  },
  {
   "cell_type": "code",
   "execution_count": 20,
   "metadata": {},
   "outputs": [
    {
     "data": {
      "text/plain": [
       "<matplotlib.axes._subplots.AxesSubplot at 0x84c67d9e20>"
      ]
     },
     "execution_count": 20,
     "metadata": {},
     "output_type": "execute_result"
    },
    {
     "data": {
      "image/png": "[encoded data removed]",
      "text/plain": [
       "<Figure size 432x432 with 1 Axes>"
      ]
     },
     "metadata": {
      "needs_background": "light"
     },
     "output_type": "display_data"
    }
   ],
   "source": [
    "Married1 = pd.crosstab(df1.Married, df1.Loan_Status)\n",
    "Married1.div(Married1.sum(1).astype(float), axis = 0).plot(kind = \"bar\", stacked = True, figsize = (6,6))"
   ]
  },
  {
   "cell_type": "raw",
   "metadata": {},
   "source": [
    "Observation    \n",
    "        1. unmarried applicant loan approaved is 63% & unapproved is 37%\n",
    "        2. married applicant loan approved is 72% & unapproved is 28%"
   ]
  },
  {
   "cell_type": "code",
   "execution_count": 21,
   "metadata": {},
   "outputs": [
    {
     "data": {
      "text/plain": [
       "<matplotlib.axes._subplots.AxesSubplot at 0x84c683dd00>"
      ]
     },
     "execution_count": 21,
     "metadata": {},
     "output_type": "execute_result"
    },
    {
     "data": {
      "image/png": "[encoded data removed]",
      "text/plain": [
       "<Figure size 432x432 with 1 Axes>"
      ]
     },
     "metadata": {
      "needs_background": "light"
     },
     "output_type": "display_data"
    }
   ],
   "source": [
    "self_emp1 = pd.crosstab(df1.Self_Employed, df1.Loan_Status)\n",
    "self_emp1.div(self_emp1.sum(1).astype(float), axis = 0).plot(kind ='bar', stacked = True, figsize = (6,6))\n",
    "\n",
    "# from following plot nothing can be inferred as such."
   ]
  },
  {
   "cell_type": "code",
   "execution_count": 22,
   "metadata": {},
   "outputs": [
    {
     "data": {
      "text/plain": [
       "<matplotlib.axes._subplots.AxesSubplot at 0x84c6c8ba90>"
      ]
     },
     "execution_count": 22,
     "metadata": {},
     "output_type": "execute_result"
    },
    {
     "data": {
      "image/png": "[encoded data removed]",
      "text/plain": [
       "<Figure size 432x432 with 1 Axes>"
      ]
     },
     "metadata": {
      "needs_background": "light"
     },
     "output_type": "display_data"
    }
   ],
   "source": [
    "edu = pd.crosstab(df1.Education, df1.Loan_Status)\n",
    "edu.div(edu.sum(1).astype(float), axis = 0).plot(kind = 'bar', stacked = True, figsize = (6,6))\n",
    "    \n",
    "    # around 70% loan approved for graduates while around 30% unapproved.\n",
    "    # around 62% loan approved while 38% unapproved for non-graduate."
   ]
  },
  {
   "cell_type": "code",
   "execution_count": 23,
   "metadata": {},
   "outputs": [
    {
     "data": {
      "text/plain": [
       "<matplotlib.axes._subplots.AxesSubplot at 0x84c6ab4940>"
      ]
     },
     "execution_count": 23,
     "metadata": {},
     "output_type": "execute_result"
    },
    {
     "data": {
      "image/png": "[encoded data removed]",
      "text/plain": [
       "<Figure size 432x432 with 1 Axes>"
      ]
     },
     "metadata": {
      "needs_background": "light"
     },
     "output_type": "display_data"
    }
   ],
   "source": [
    "depen = pd.crosstab(df1.Dependents, df1.Loan_Status)\n",
    "depen.div(depen.sum(1).astype(float), axis =0).plot(kind ='bar', stacked = True, figsize = (6,6))\n"
   ]
  },
  {
   "cell_type": "raw",
   "metadata": {},
   "source": [
    "Observation -\n",
    "     1. distribution of applicants with 1 & 3+ dependends are similar across both categories with loan_Status\n",
    "     2. while 2 dependent applicants Loan_status approval are higher as compared to other"
   ]
  },
  {
   "cell_type": "code",
   "execution_count": 24,
   "metadata": {},
   "outputs": [
    {
     "data": {
      "text/plain": [
       "<matplotlib.axes._subplots.AxesSubplot at 0x84c656ab50>"
      ]
     },
     "execution_count": 24,
     "metadata": {},
     "output_type": "execute_result"
    },
    {
     "data": {
      "image/png": "[encoded data removed]",
      "text/plain": [
       "<Figure size 432x432 with 1 Axes>"
      ]
     },
     "metadata": {
      "needs_background": "light"
     },
     "output_type": "display_data"
    }
   ],
   "source": [
    "cr_his = pd.crosstab(df1.Credit_History, df1.Loan_Status)\n",
    "cr_his.div(cr_his.sum(1).astype(float), axis = 0).plot(kind = \"bar\", stacked = True, figsize = (6,6))\n"
   ]
  },
  {
   "cell_type": "raw",
   "metadata": {},
   "source": [
    " Obeservation - \n",
    "     1. Loan are approved higly to those whose credit history is good(1) and who already paid their debts\n",
    "     2. where whose credit history is not good their loan application highly unapproved"
   ]
  },
  {
   "cell_type": "code",
   "execution_count": 25,
   "metadata": {},
   "outputs": [
    {
     "data": {
      "text/plain": [
       "<matplotlib.axes._subplots.AxesSubplot at 0x84c6251070>"
      ]
     },
     "execution_count": 25,
     "metadata": {},
     "output_type": "execute_result"
    },
    {
     "data": {
      "image/png": "[encoded data removed]",
      "text/plain": [
       "<Figure size 432x432 with 1 Axes>"
      ]
     },
     "metadata": {
      "needs_background": "light"
     },
     "output_type": "display_data"
    }
   ],
   "source": [
    "pro_area = pd.crosstab(df1.Property_Area, df1.Loan_Status)\n",
    "pro_area.div(pro_area.sum(1).astype(float), axis = 0).plot(kind = 'bar', stacked = False, figsize = (6,6))\n",
    "\n",
    "    # Proportionately Semi-Urban area was having highest approval as comared to that in Rural & Urban areas"
   ]
  },
  {
   "cell_type": "markdown",
   "metadata": {},
   "source": [
    "# Numerical Independent Variable vs Target Variable"
   ]
  },
  {
   "cell_type": "code",
   "execution_count": 26,
   "metadata": {},
   "outputs": [
    {
     "data": {
      "image/png": "[encoded data removed]",
      "text/plain": [
       "<Figure size 432x288 with 1 Axes>"
      ]
     },
     "metadata": {
      "needs_background": "light"
     },
     "output_type": "display_data"
    }
   ],
   "source": [
    "plt.figure(1)\n",
    "# plt.subplot(121)\n",
    "# df1.groupby('Loan_Status')['ApplicantIncome'].mean().plot.bar(figsize = (12,6))\n",
    "plt.subplot(122)\n",
    "df1.groupby('Loan_Status')['ApplicantIncome'].median().plot.bar()\n",
    "plt.show()\n",
    "    # median value can treat on outlier values in datasets."
   ]
  },
  {
   "cell_type": "code",
   "execution_count": 27,
   "metadata": {},
   "outputs": [
    {
     "data": {
      "text/plain": [
       "3812.5"
      ]
     },
     "execution_count": 27,
     "metadata": {},
     "output_type": "execute_result"
    }
   ],
   "source": [
    "applicant_income = df1.ApplicantIncome.median()\n",
    "applicant_income"
   ]
  },
  {
   "cell_type": "code",
   "execution_count": 28,
   "metadata": {},
   "outputs": [
    {
     "data": {
      "text/plain": [
       "5403.459283387622"
      ]
     },
     "execution_count": 28,
     "metadata": {},
     "output_type": "execute_result"
    }
   ],
   "source": [
    "avg_appliIncome = df1.ApplicantIncome.mean()\n",
    "avg_appliIncome"
   ]
  },
  {
   "cell_type": "code",
   "execution_count": 29,
   "metadata": {},
   "outputs": [
    {
     "data": {
      "text/plain": [
       "Text(0, 0.5, 'Percentage')"
      ]
     },
     "execution_count": 29,
     "metadata": {},
     "output_type": "execute_result"
    },
    {
     "data": {
      "image/png": "[encoded data removed]",
      "text/plain": [
       "<Figure size 720x432 with 1 Axes>"
      ]
     },
     "metadata": {
      "needs_background": "light"
     },
     "output_type": "display_data"
    }
   ],
   "source": [
    "bins = [0, 2500, 5000, 10000, 50000]\n",
    "group = ['Low','Medium','High','Very High']\n",
    "df1['income_bin'] = pd.cut(df1.ApplicantIncome, bins, labels = group)\n",
    "# df1.income_bin.value_counts()\n",
    "\n",
    "i_bin = pd.crosstab(df1.income_bin, df1.Loan_Status)\n",
    "i_bin.div(i_bin.sum(1).astype(float), axis = 0).plot(kind =\"bar\", stacked = False, figsize = (10,6))\n",
    "plt.xlabel(\"Applicant Income\")\n",
    "plt.ylabel('Percentage')\n"
   ]
  },
  {
   "cell_type": "code",
   "execution_count": 30,
   "metadata": {},
   "outputs": [
    {
     "data": {
      "text/plain": [
       "Text(0, 0.5, 'Percentage')"
      ]
     },
     "execution_count": 30,
     "metadata": {},
     "output_type": "execute_result"
    },
    {
     "data": {
      "image/png": "[encoded data removed]",
      "text/plain": [
       "<Figure size 720x432 with 1 Axes>"
      ]
     },
     "metadata": {
      "needs_background": "light"
     },
     "output_type": "display_data"
    }
   ],
   "source": [
    "# Coapplicants Income vs. Loan Status\n",
    "\n",
    "bins = [0,1500, 4500, 35000]\n",
    "group = ['Low','Medium','High']\n",
    "df1['coapp_income_bin'] = pd.cut(df1.CoapplicantIncome, bins, labels = group)\n",
    "\n",
    "coapp_bin = pd.crosstab(df1.coapp_income_bin, df1.Loan_Status)\n",
    "coapp_bin.div(coapp_bin.sum(1).astype(float), axis = 0).plot(kind = 'bar', stacked = True, figsize = (10,6))\n",
    "plt.xlabel(\"Coapplicant Income\")\n",
    "plt.ylabel('Percentage')\n"
   ]
  },
  {
   "cell_type": "raw",
   "metadata": {},
   "source": [
    "Obeservation -\n",
    "\n",
    "    1. Applicant Income does not affect the chances of loan approval which is contradicts to our earlier hypothesis\n",
    "    2. If Coapplicant Income is less their is high chances of loan approval. This does not looks right because many of applicant doesn't have any coapplicant, so their coapplicant income is 0."
   ]
  },
  {
   "cell_type": "code",
   "execution_count": 31,
   "metadata": {},
   "outputs": [
    {
     "data": {
      "text/plain": [
       "Text(0, 0.5, ' % value')"
      ]
     },
     "execution_count": 31,
     "metadata": {},
     "output_type": "execute_result"
    },
    {
     "data": {
      "image/png": "[encoded data removed]",
      "text/plain": [
       "<Figure size 720x432 with 1 Axes>"
      ]
     },
     "metadata": {
      "needs_background": "light"
     },
     "output_type": "display_data"
    }
   ],
   "source": [
    "# Creation of Total Income\n",
    "\n",
    "df1[\"Total_Income\"] =  df1[\"ApplicantIncome\"] + df1[\"CoapplicantIncome\"]\n",
    "\n",
    "bins = [0, 2500, 5000, 10000, 50000]\n",
    "group = ['Low','Medium','High','Very High']\n",
    "df1['total_income_bin'] = pd.cut(df1.Total_Income, bins, labels = group)\n",
    "\n",
    "total_bin = pd.crosstab(df1.total_income_bin, df1.Loan_Status)\n",
    "total_bin.div(total_bin.sum(1).astype(float), axis = 0).plot(kind = 'bar', stacked = False, figsize = (10,6))\n",
    "plt.xlabel(\"Total Income\")\n",
    "plt.ylabel(' % value')\n",
    "\n",
    "#  The proportion ofloans getting approved for low total income is very low as compared to Medium, High and Very High Income."
   ]
  },
  {
   "cell_type": "code",
   "execution_count": 36,
   "metadata": {},
   "outputs": [
    {
     "data": {
      "text/plain": [
       "Text(0, 0.5, 'percentage')"
      ]
     },
     "execution_count": 36,
     "metadata": {},
     "output_type": "execute_result"
    },
    {
     "data": {
      "image/png": "[encoded data removed]",
      "text/plain": [
       "<Figure size 720x432 with 1 Axes>"
      ]
     },
     "metadata": {
      "needs_background": "light"
     },
     "output_type": "display_data"
    }
   ],
   "source": [
    "# Loan Amount Visualization\n",
    "\n",
    "bins = [0,200,500,1000]\n",
    "group = ['Low', 'Medium', 'High']\n",
    "df1['loan_amount_bin'] = pd.cut(df1[\"LoanAmount\"], bins, labels = group)\n",
    "\n",
    "loan_bin = pd.crosstab(df1['loan_amount_bin'], df1['Loan_Status'])\n",
    "loan_bin.div(loan_bin.sum(1), axis = 0).plot(kind = 'bar', stacked = True, figsize = (10,6))\n",
    "plt.xlabel(\"Loan Amount\")\n",
    "plt.ylabel(\"percentage\")"
   ]
  },
  {
   "cell_type": "code",
   "execution_count": 32,
   "metadata": {},
   "outputs": [
    {
     "data": {
      "text/plain": [
       "Text(0, 0.5, 'Number of Applicant')"
      ]
     },
     "execution_count": 32,
     "metadata": {},
     "output_type": "execute_result"
    },
    {
     "data": {
      "image/png": "[encoded data removed]",
      "text/plain": [
       "<Figure size 720x432 with 1 Axes>"
      ]
     },
     "metadata": {
      "needs_background": "light"
     },
     "output_type": "display_data"
    }
   ],
   "source": [
    "bins = [0,200,500,1000]\n",
    "group = ['Low', 'Medium', 'High']\n",
    "df1['loan_amount_bin'] = pd.cut(df1[\"LoanAmount\"], bins, labels = group)\n",
    "\n",
    "loan_bin = pd.crosstab(df1['loan_amount_bin'], df1['Loan_Status'])\n",
    "loan_bin.mod(loan_bin.sum(1), axis = 0).plot(kind = 'bar', stacked = True, figsize = (10,6))\n",
    "plt.xlabel(\"Loan Amount\")\n",
    "plt.ylabel(\"Number of Applicant\")"
   ]
  },
  {
   "cell_type": "raw",
   "metadata": {},
   "source": [
    "    The loan approval highest for Low Loan Amounts are highest but in proportionate it is around 71% but while approval for High Loan Amount is 80%.\n",
    "    The highest loan applicants are for low loan amounts while their isvery less application for High Loan Amount.\n",
    "    The number of appication received for Low Loan Amount are 512 from it 362 approved and 150 unapproved.\n",
    "    While their is only 5 appicant for Hogh Loan Amounts and from it 4 approved and 1 unapproved.\n",
    "    \n",
    "    for Medium Loan Amount 60% approved & 40% unapproved"
   ]
  },
  {
   "cell_type": "code",
   "execution_count": 33,
   "metadata": {},
   "outputs": [],
   "source": [
    "df1 = df1.drop(['income_bin', 'coapp_income_bin', 'loan_amount_bin', 'total_income_bin'], axis = 1)"
   ]
  },
  {
   "cell_type": "code",
   "execution_count": 34,
   "metadata": {},
   "outputs": [
    {
     "data": {
      "text/html": [
       "<div>\n",
       "<style scoped>\n",
       "    .dataframe tbody tr th:only-of-type {\n",
       "        vertical-align: middle;\n",
       "    }\n",
       "\n",
       "    .dataframe tbody tr th {\n",
       "        vertical-align: top;\n",
       "    }\n",
       "\n",
       "    .dataframe thead th {\n",
       "        text-align: right;\n",
       "    }\n",
       "</style>\n",
       "<table border=\"1\" class=\"dataframe\">\n",
       "  <thead>\n",
       "    <tr style=\"text-align: right;\">\n",
       "      <th></th>\n",
       "      <th>Loan_ID</th>\n",
       "      <th>Gender</th>\n",
       "      <th>Married</th>\n",
       "      <th>Dependents</th>\n",
       "      <th>Education</th>\n",
       "      <th>Self_Employed</th>\n",
       "      <th>ApplicantIncome</th>\n",
       "      <th>CoapplicantIncome</th>\n",
       "      <th>LoanAmount</th>\n",
       "      <th>Loan_Amount_Term</th>\n",
       "      <th>Credit_History</th>\n",
       "      <th>Property_Area</th>\n",
       "      <th>Loan_Status</th>\n",
       "    </tr>\n",
       "  </thead>\n",
       "  <tbody>\n",
       "    <tr>\n",
       "      <th>0</th>\n",
       "      <td>LP001002</td>\n",
       "      <td>Male</td>\n",
       "      <td>No</td>\n",
       "      <td>0</td>\n",
       "      <td>Graduate</td>\n",
       "      <td>No</td>\n",
       "      <td>5849</td>\n",
       "      <td>0.0</td>\n",
       "      <td>NaN</td>\n",
       "      <td>360.0</td>\n",
       "      <td>1.0</td>\n",
       "      <td>Urban</td>\n",
       "      <td>Y</td>\n",
       "    </tr>\n",
       "    <tr>\n",
       "      <th>1</th>\n",
       "      <td>LP001003</td>\n",
       "      <td>Male</td>\n",
       "      <td>Yes</td>\n",
       "      <td>1</td>\n",
       "      <td>Graduate</td>\n",
       "      <td>No</td>\n",
       "      <td>4583</td>\n",
       "      <td>1508.0</td>\n",
       "      <td>128.0</td>\n",
       "      <td>360.0</td>\n",
       "      <td>1.0</td>\n",
       "      <td>Rural</td>\n",
       "      <td>N</td>\n",
       "    </tr>\n",
       "    <tr>\n",
       "      <th>2</th>\n",
       "      <td>LP001005</td>\n",
       "      <td>Male</td>\n",
       "      <td>Yes</td>\n",
       "      <td>0</td>\n",
       "      <td>Graduate</td>\n",
       "      <td>Yes</td>\n",
       "      <td>3000</td>\n",
       "      <td>0.0</td>\n",
       "      <td>66.0</td>\n",
       "      <td>360.0</td>\n",
       "      <td>1.0</td>\n",
       "      <td>Urban</td>\n",
       "      <td>Y</td>\n",
       "    </tr>\n",
       "    <tr>\n",
       "      <th>3</th>\n",
       "      <td>LP001006</td>\n",
       "      <td>Male</td>\n",
       "      <td>Yes</td>\n",
       "      <td>0</td>\n",
       "      <td>Not Graduate</td>\n",
       "      <td>No</td>\n",
       "      <td>2583</td>\n",
       "      <td>2358.0</td>\n",
       "      <td>120.0</td>\n",
       "      <td>360.0</td>\n",
       "      <td>1.0</td>\n",
       "      <td>Urban</td>\n",
       "      <td>Y</td>\n",
       "    </tr>\n",
       "    <tr>\n",
       "      <th>4</th>\n",
       "      <td>LP001008</td>\n",
       "      <td>Male</td>\n",
       "      <td>No</td>\n",
       "      <td>0</td>\n",
       "      <td>Graduate</td>\n",
       "      <td>No</td>\n",
       "      <td>6000</td>\n",
       "      <td>0.0</td>\n",
       "      <td>141.0</td>\n",
       "      <td>360.0</td>\n",
       "      <td>1.0</td>\n",
       "      <td>Urban</td>\n",
       "      <td>Y</td>\n",
       "    </tr>\n",
       "    <tr>\n",
       "      <th>...</th>\n",
       "      <td>...</td>\n",
       "      <td>...</td>\n",
       "      <td>...</td>\n",
       "      <td>...</td>\n",
       "      <td>...</td>\n",
       "      <td>...</td>\n",
       "      <td>...</td>\n",
       "      <td>...</td>\n",
       "      <td>...</td>\n",
       "      <td>...</td>\n",
       "      <td>...</td>\n",
       "      <td>...</td>\n",
       "      <td>...</td>\n",
       "    </tr>\n",
       "    <tr>\n",
       "      <th>609</th>\n",
       "      <td>LP002978</td>\n",
       "      <td>Female</td>\n",
       "      <td>No</td>\n",
       "      <td>0</td>\n",
       "      <td>Graduate</td>\n",
       "      <td>No</td>\n",
       "      <td>2900</td>\n",
       "      <td>0.0</td>\n",
       "      <td>71.0</td>\n",
       "      <td>360.0</td>\n",
       "      <td>1.0</td>\n",
       "      <td>Rural</td>\n",
       "      <td>Y</td>\n",
       "    </tr>\n",
       "    <tr>\n",
       "      <th>610</th>\n",
       "      <td>LP002979</td>\n",
       "      <td>Male</td>\n",
       "      <td>Yes</td>\n",
       "      <td>3+</td>\n",
       "      <td>Graduate</td>\n",
       "      <td>No</td>\n",
       "      <td>4106</td>\n",
       "      <td>0.0</td>\n",
       "      <td>40.0</td>\n",
       "      <td>180.0</td>\n",
       "      <td>1.0</td>\n",
       "      <td>Rural</td>\n",
       "      <td>Y</td>\n",
       "    </tr>\n",
       "    <tr>\n",
       "      <th>611</th>\n",
       "      <td>LP002983</td>\n",
       "      <td>Male</td>\n",
       "      <td>Yes</td>\n",
       "      <td>1</td>\n",
       "      <td>Graduate</td>\n",
       "      <td>No</td>\n",
       "      <td>8072</td>\n",
       "      <td>240.0</td>\n",
       "      <td>253.0</td>\n",
       "      <td>360.0</td>\n",
       "      <td>1.0</td>\n",
       "      <td>Urban</td>\n",
       "      <td>Y</td>\n",
       "    </tr>\n",
       "    <tr>\n",
       "      <th>612</th>\n",
       "      <td>LP002984</td>\n",
       "      <td>Male</td>\n",
       "      <td>Yes</td>\n",
       "      <td>2</td>\n",
       "      <td>Graduate</td>\n",
       "      <td>No</td>\n",
       "      <td>7583</td>\n",
       "      <td>0.0</td>\n",
       "      <td>187.0</td>\n",
       "      <td>360.0</td>\n",
       "      <td>1.0</td>\n",
       "      <td>Urban</td>\n",
       "      <td>Y</td>\n",
       "    </tr>\n",
       "    <tr>\n",
       "      <th>613</th>\n",
       "      <td>LP002990</td>\n",
       "      <td>Female</td>\n",
       "      <td>No</td>\n",
       "      <td>0</td>\n",
       "      <td>Graduate</td>\n",
       "      <td>Yes</td>\n",
       "      <td>4583</td>\n",
       "      <td>0.0</td>\n",
       "      <td>133.0</td>\n",
       "      <td>360.0</td>\n",
       "      <td>0.0</td>\n",
       "      <td>Semiurban</td>\n",
       "      <td>N</td>\n",
       "    </tr>\n",
       "  </tbody>\n",
       "</table>\n",
       "<p>614 rows × 13 columns</p>\n",
       "</div>"
      ],
      "text/plain": [
       "      Loan_ID  Gender Married Dependents     Education Self_Employed  \\\n",
       "0    LP001002    Male      No          0      Graduate            No   \n",
       "1    LP001003    Male     Yes          1      Graduate            No   \n",
       "2    LP001005    Male     Yes          0      Graduate           Yes   \n",
       "3    LP001006    Male     Yes          0  Not Graduate            No   \n",
       "4    LP001008    Male      No          0      Graduate            No   \n",
       "..        ...     ...     ...        ...           ...           ...   \n",
       "609  LP002978  Female      No          0      Graduate            No   \n",
       "610  LP002979    Male     Yes         3+      Graduate            No   \n",
       "611  LP002983    Male     Yes          1      Graduate            No   \n",
       "612  LP002984    Male     Yes          2      Graduate            No   \n",
       "613  LP002990  Female      No          0      Graduate           Yes   \n",
       "\n",
       "     ApplicantIncome  CoapplicantIncome  LoanAmount  Loan_Amount_Term  \\\n",
       "0               5849                0.0         NaN             360.0   \n",
       "1               4583             1508.0       128.0             360.0   \n",
       "2               3000                0.0        66.0             360.0   \n",
       "3               2583             2358.0       120.0             360.0   \n",
       "4               6000                0.0       141.0             360.0   \n",
       "..               ...                ...         ...               ...   \n",
       "609             2900                0.0        71.0             360.0   \n",
       "610             4106                0.0        40.0             180.0   \n",
       "611             8072              240.0       253.0             360.0   \n",
       "612             7583                0.0       187.0             360.0   \n",
       "613             4583                0.0       133.0             360.0   \n",
       "\n",
       "     Credit_History Property_Area Loan_Status  \n",
       "0               1.0         Urban           Y  \n",
       "1               1.0         Rural           N  \n",
       "2               1.0         Urban           Y  \n",
       "3               1.0         Urban           Y  \n",
       "4               1.0         Urban           Y  \n",
       "..              ...           ...         ...  \n",
       "609             1.0         Rural           Y  \n",
       "610             1.0         Rural           Y  \n",
       "611             1.0         Urban           Y  \n",
       "612             1.0         Urban           Y  \n",
       "613             0.0     Semiurban           N  \n",
       "\n",
       "[614 rows x 13 columns]"
      ]
     },
     "execution_count": 34,
     "metadata": {},
     "output_type": "execute_result"
    }
   ],
   "source": [
    "df1 = df1.drop(['Total_Income'], axis = 1)\n",
    "df1"
   ]
  },
  {
   "cell_type": "code",
   "execution_count": 35,
   "metadata": {},
   "outputs": [],
   "source": [
    "# Converting Loan_Status into Binary form\n",
    "\n",
    "def loan_stat(loan):\n",
    "    if loan == 'N':\n",
    "        return 0\n",
    "    else:\n",
    "        return 1\n",
    "df1[\"Loan_Status\"] = df1[\"Loan_Status\"].map(loan_stat).astype(float)"
   ]
  },
  {
   "cell_type": "code",
   "execution_count": 36,
   "metadata": {},
   "outputs": [],
   "source": [
    "# Converting 3+ Dependents into 3\n",
    "df1['Dependents'].replace('3+', 3, inplace = True)\n",
    "df2['Dependents'].replace('3+', 3, inplace = True)"
   ]
  },
  {
   "cell_type": "code",
   "execution_count": 37,
   "metadata": {},
   "outputs": [
    {
     "data": {
      "text/plain": [
       "<matplotlib.axes._subplots.AxesSubplot at 0x84c66dcca0>"
      ]
     },
     "execution_count": 37,
     "metadata": {},
     "output_type": "execute_result"
    },
    {
     "data": {
      "image/png": "[encoded data removed]",
      "text/plain": [
       "<Figure size 864x648 with 2 Axes>"
      ]
     },
     "metadata": {
      "needs_background": "light"
     },
     "output_type": "display_data"
    }
   ],
   "source": [
    "# Correlation between all Numerical variables\n",
    "# Visualizing it in Heatmap\n",
    "\n",
    "matrix = df1.corr()\n",
    "f, ax = plt.subplots(figsize = (12,9))\n",
    "sns.heatmap(matrix, vmax = 0.8, square = True, cmap = 'BuPu')"
   ]
  },
  {
   "cell_type": "raw",
   "metadata": {},
   "source": [
    " from above Correlation Heatmap we can draw following conclusion as -\n",
    "     1. Applicant Income - Loan Amount is correlated\n",
    "        while Credit History & Loan Status are also correlated.\n",
    "     2. Loan Amount are also correlated to Coapplicant Income"
   ]
  },
  {
   "cell_type": "markdown",
   "metadata": {},
   "source": [
    "# MISSING VALUE & OUTLIER TREATMENT"
   ]
  },
  {
   "cell_type": "markdown",
   "metadata": {},
   "source": [
    "# Missing Value Treatment"
   ]
  },
  {
   "cell_type": "code",
   "execution_count": 38,
   "metadata": {},
   "outputs": [
    {
     "data": {
      "text/plain": [
       "Loan_ID               0\n",
       "Gender               13\n",
       "Married               3\n",
       "Dependents           15\n",
       "Education             0\n",
       "Self_Employed        32\n",
       "ApplicantIncome       0\n",
       "CoapplicantIncome     0\n",
       "LoanAmount           22\n",
       "Loan_Amount_Term     14\n",
       "Credit_History       50\n",
       "Property_Area         0\n",
       "Loan_Status           0\n",
       "dtype: int64"
      ]
     },
     "execution_count": 38,
     "metadata": {},
     "output_type": "execute_result"
    }
   ],
   "source": [
    "df1.isnull().sum()"
   ]
  },
  {
   "cell_type": "code",
   "execution_count": 39,
   "metadata": {},
   "outputs": [
    {
     "data": {
      "text/plain": [
       "Loan_ID              0\n",
       "Gender               0\n",
       "Married              0\n",
       "Dependents           0\n",
       "Education            0\n",
       "Self_Employed        0\n",
       "ApplicantIncome      0\n",
       "CoapplicantIncome    0\n",
       "LoanAmount           0\n",
       "Loan_Amount_Term     0\n",
       "Credit_History       0\n",
       "Property_Area        0\n",
       "Loan_Status          0\n",
       "dtype: int64"
      ]
     },
     "execution_count": 39,
     "metadata": {},
     "output_type": "execute_result"
    }
   ],
   "source": [
    "# Filling null value with mode in categorical variance and median in numeric variance in df1(Train dataset)\n",
    "\n",
    "df1['Gender'].fillna(df1['Gender'].mode()[0], inplace = True)\n",
    "df1['Married'].fillna(df1['Married'].mode()[0], inplace = True)\n",
    "df1['Dependents'].fillna(df1['Dependents'].mode()[0], inplace = True)\n",
    "df1['Self_Employed'].fillna(df1['Self_Employed'].mode()[0], inplace = True)\n",
    "df1['Credit_History'].fillna(df1['Credit_History'].mode()[0], inplace = True)\n",
    "df1['Loan_Amount_Term'].fillna(df1['Loan_Amount_Term'].mode()[0], inplace = True)\n",
    "df1['LoanAmount'].fillna(df1['LoanAmount'].median(), inplace = True)\n",
    "\n",
    "# Filling missing values in df2(Test)\n",
    "\n",
    "df2['Gender'].fillna(df2['Gender'].mode()[0], inplace = True)\n",
    "df2['Married'].fillna(df2['Married'].mode()[0], inplace = True)\n",
    "df2['Dependents'].fillna(df2['Dependents'].mode()[0], inplace = True)\n",
    "df2['Self_Employed'].fillna(df2['Self_Employed'].mode()[0], inplace = True)\n",
    "df2['Credit_History'].fillna(df2['Credit_History'].mode()[0], inplace = True)\n",
    "df2['Loan_Amount_Term'].fillna(df2['Loan_Amount_Term'].mode()[0], inplace = True)\n",
    "df2['LoanAmount'].fillna(df2['LoanAmount'].median(), inplace = True)\n",
    "\n",
    "df1.isnull().sum()"
   ]
  },
  {
   "cell_type": "code",
   "execution_count": 40,
   "metadata": {},
   "outputs": [
    {
     "data": {
      "text/plain": [
       "Loan_ID              0\n",
       "Gender               0\n",
       "Married              0\n",
       "Dependents           0\n",
       "Education            0\n",
       "Self_Employed        0\n",
       "ApplicantIncome      0\n",
       "CoapplicantIncome    0\n",
       "LoanAmount           0\n",
       "Loan_Amount_Term     0\n",
       "Credit_History       0\n",
       "Property_Area        0\n",
       "dtype: int64"
      ]
     },
     "execution_count": 40,
     "metadata": {},
     "output_type": "execute_result"
    }
   ],
   "source": [
    "df2.isnull().sum()"
   ]
  },
  {
   "cell_type": "markdown",
   "metadata": {},
   "source": [
    "# Outlier Treatement"
   ]
  },
  {
   "cell_type": "raw",
   "metadata": {},
   "source": [
    "# Log Transformation \n",
    "    to remove skewness log transformation is important.\n",
    "    Log transformation does not affect more on small values but reduces the large values.\n",
    "    so we get normal distribution chart / plot"
   ]
  },
  {
   "cell_type": "code",
   "execution_count": 41,
   "metadata": {},
   "outputs": [
    {
     "data": {
      "text/plain": [
       "<matplotlib.axes._subplots.AxesSubplot at 0x84c6538700>"
      ]
     },
     "execution_count": 41,
     "metadata": {},
     "output_type": "execute_result"
    },
    {
     "data": {
      "image/png": "[encoded data removed]",
      "text/plain": [
       "<Figure size 432x288 with 1 Axes>"
      ]
     },
     "metadata": {
      "needs_background": "light"
     },
     "output_type": "display_data"
    }
   ],
   "source": [
    "# Log transformation for train (df1)\n",
    "\n",
    "df1['LoanAmount_log'] = np.log(df1['LoanAmount'])\n",
    "df1['LoanAmount_log'].hist(bins = 20)"
   ]
  },
  {
   "cell_type": "code",
   "execution_count": 42,
   "metadata": {},
   "outputs": [],
   "source": [
    "# Log Transformation for test(df2)\n",
    "\n",
    "df2['LoanAmount_log'] = np.log(df2['LoanAmount'])"
   ]
  },
  {
   "cell_type": "markdown",
   "metadata": {},
   "source": [
    "# MODEL BUILDING"
   ]
  },
  {
   "cell_type": "code",
   "execution_count": 43,
   "metadata": {},
   "outputs": [],
   "source": [
    "# Dropping Loan_ID from both train (df1) & test (df2)\n",
    "\n",
    "df1 = df1.drop(['Loan_ID'], axis = 1)\n",
    "df2 = df2.drop(['Loan_ID'], axis = 1)"
   ]
  },
  {
   "cell_type": "code",
   "execution_count": 44,
   "metadata": {},
   "outputs": [],
   "source": [
    "# Dropping target variable from train (df1) & saving as 'y'\n",
    "\n",
    "X = df1.drop(['Loan_Status'], 1)\n",
    "y = df1.Loan_Status"
   ]
  },
  {
   "cell_type": "code",
   "execution_count": 45,
   "metadata": {},
   "outputs": [],
   "source": [
    "# Creating Dummy dataframe of train (df1) & test (df2)\n",
    "\n",
    "X = pd.get_dummies(X)\n",
    "df1 = pd.get_dummies(df1)\n",
    "df2 = pd.get_dummies(df2)"
   ]
  },
  {
   "cell_type": "code",
   "execution_count": 46,
   "metadata": {},
   "outputs": [],
   "source": [
    "# train - test split\n",
    "\n",
    "x_train, x_cv, y_train, y_cv = train_test_split(X, y, test_size = 0.3)"
   ]
  },
  {
   "cell_type": "code",
   "execution_count": 49,
   "metadata": {},
   "outputs": [
    {
     "data": {
      "text/plain": [
       "LogisticRegression()"
      ]
     },
     "execution_count": 49,
     "metadata": {},
     "output_type": "execute_result"
    }
   ],
   "source": [
    "# Logistic Regression\n",
    "\n",
    "# creating Logistic Regression\n",
    "log_reg = LogisticRegression()\n",
    "log_reg.fit(x_train, y_train)\n",
    "\n",
    "# LogisticRegression(penalty='l1',dual=False, tol=0.0001, C=1.0, fit_intercept=True, intercept_scaling=1,\n",
    "#                    class_weight=None, random_state=None, solver='lib', max_iter=100, multi_class='auto', \n",
    "#                    verbose=0, warm_start=False, n_jobs=1)"
   ]
  },
  {
   "cell_type": "code",
   "execution_count": 50,
   "metadata": {},
   "outputs": [
    {
     "name": "stdout",
     "output_type": "stream",
     "text": [
      "0.7945945945945946\n"
     ]
    }
   ],
   "source": [
    "# Predict Loan_Status for validation and calculate accuracy\n",
    "\n",
    "pred_cv = log_reg.predict(x_cv) # predicting x_cross_validation\n",
    "\n",
    "accuracy_cv = accuracy_score(y_cv, pred_cv) # calculating accuracy score\n",
    "print(accuracy_cv)\n",
    "\n",
    "# from output, our accuracy is 0.7950 accurate which means we have identified around 80% of the Loan Status correctly"
   ]
  },
  {
   "cell_type": "code",
   "execution_count": 51,
   "metadata": {},
   "outputs": [],
   "source": [
    "# predict for test dataframe\n",
    "\n",
    "pred_test = log_reg.predict(df2)\n",
    "\n",
    "# import submission file\n",
    "\n",
    "submission = pd.read_csv(\"C:/Users/sharmila_biyani/Documents/Analytics_Vidya/Loan Prediction Project/Loan_sample_submission.csv\")\n",
    "\n",
    "# filling Loan_ID & Loan_Status columns with Loan_Id of test dataset and predictions, i.e., pred_test respectively\n",
    "\n",
    "submission['Loan_Status'] = pred_test\n",
    "submission[\"Loan_ID\"] = test['Loan_ID']\n",
    "\n",
    "# converting prediction from 1 & 0 to Y & N\n",
    "submission[\"Loan_Status\"].replace(0, \"N\", inplace = True)\n",
    "submission[\"Loan_Status\"].replace(1, \"Y\", inplace = True)\n",
    "\n",
    "submission\n",
    "\n",
    "# converting submission to csv format file\n",
    "pd.DataFrame(submission, columns = [\"Loan_ID\", 'Loan_Status']).to_csv(\"LoanStatus.csv\")"
   ]
  },
  {
   "cell_type": "markdown",
   "metadata": {},
   "source": [
    "# Startified k-Fold"
   ]
  },
  {
   "cell_type": "code",
   "execution_count": 54,
   "metadata": {},
   "outputs": [
    {
     "name": "stdout",
     "output_type": "stream",
     "text": [
      "\n",
      "3 of kFold 5\n",
      "accuracy_score 0.8048780487804879\n",
      "\n",
      "6 of kFold 5\n",
      "accuracy_score 0.8373983739837398\n",
      "\n",
      "9 of kFold 5\n",
      "accuracy_score 0.7804878048780488\n",
      "\n",
      "12 of kFold 5\n",
      "accuracy_score 0.7886178861788617\n",
      "\n",
      "15 of kFold 5\n",
      "accuracy_score 0.7950819672131147\n"
     ]
    }
   ],
   "source": [
    "# Created a cross validation logistic model with startified 4 Fold & make prediction for test dataset\n",
    "\n",
    "i = 3\n",
    "skf = StratifiedKFold(n_splits = 5,shuffle = True, random_state = 1)\n",
    "for train_index, test_index in skf.split(X,y):\n",
    "    print('\\n{} of kFold {}'.format(i,skf.n_splits))\n",
    "    \n",
    "    xtr, xvl = X.loc[train_index], X.loc[test_index]\n",
    "    ytr, yvl = y.loc[train_index], y.loc[test_index]\n",
    "    model = LogisticRegression(random_state = 1) # Creating model for logistic regression\n",
    "    model.fit(xtr, ytr) # model fiting\n",
    "    pred_test = model.predict(xvl) # predicting x_validation\n",
    "    score = accuracy_score(yvl, pred_test) # calculating accuracy score for y_validation\n",
    "    print('accuracy_score', score)\n",
    "    i += 3 \n",
    "    pred_test = model.predict(df2)\n",
    "    pred = model.predict_proba(xvl)[:, 1]\n",
    "    \n",
    "# mean validation accuracy is 0.80 %"
   ]
  },
  {
   "cell_type": "code",
   "execution_count": 55,
   "metadata": {},
   "outputs": [
    {
     "data": {
      "image/png": "[encoded data removed]",
      "text/plain": [
       "<Figure size 1080x648 with 1 Axes>"
      ]
     },
     "metadata": {
      "needs_background": "light"
     },
     "output_type": "display_data"
    }
   ],
   "source": [
    "# Visualizing ROC Curve\n",
    "\n",
    "fpr, tpr, _ = metrics.roc_curve(yvl, pred)\n",
    "auc = metrics.roc_auc_score(yvl, pred)\n",
    "plt.figure(figsize = (15,9))\n",
    "plt.plot(fpr, tpr, label = \"validation, auc=\"+ str(auc))\n",
    "plt.xlabel('False Positive Rate')\n",
    "plt.ylabel('True Positive Rate')\n",
    "plt.legend(loc = 2)\n",
    "plt.show()\n",
    "\n",
    "# AUC value 0.73\n",
    "# pos_label = 'Y' , if run into error"
   ]
  },
  {
   "cell_type": "code",
   "execution_count": 56,
   "metadata": {},
   "outputs": [],
   "source": [
    "submission['Loan_Status'] = pred_test\n",
    "submission['Loan_ID'] = test[\"Loan_ID\"]\n",
    "\n",
    "# converting 1 & 0  to Y and N\n",
    "submission[\"Loan_Status\"].replace(0,'N', inplace = True)\n",
    "submission[\"Loan_Status\"].replace(1,'Y', inplace = True)\n",
    "\n",
    "# converting to csv file\n",
    "pd.DataFrame(submission, columns = ['Loan_ID', 'Loan_Status']).to_csv(\"LoanStatus_kfold.csv\")\n"
   ]
  },
  {
   "cell_type": "markdown",
   "metadata": {},
   "source": [
    "# Feature Engineering"
   ]
  },
  {
   "cell_type": "code",
   "execution_count": 57,
   "metadata": {},
   "outputs": [
    {
     "data": {
      "text/plain": [
       "<matplotlib.axes._subplots.AxesSubplot at 0x84c64c48e0>"
      ]
     },
     "execution_count": 57,
     "metadata": {},
     "output_type": "execute_result"
    },
    {
     "data": {
      "image/png": "[encoded data removed]",
      "text/plain": [
       "<Figure size 432x288 with 1 Axes>"
      ]
     },
     "metadata": {
      "needs_background": "light"
     },
     "output_type": "display_data"
    }
   ],
   "source": [
    "# creating Total_Income while adding ApplicantIncome & CoapplicantIncome\n",
    "\n",
    "df1['Total_Income'] = df1['ApplicantIncome'] + df1['CoapplicantIncome']\n",
    "df2['Total_Income'] = df2['ApplicantIncome'] + df2['CoapplicantIncome']\n",
    "\n",
    "# Plotting Total_Income\n",
    "sns.distplot(df1['Total_Income'])"
   ]
  },
  {
   "cell_type": "code",
   "execution_count": 58,
   "metadata": {},
   "outputs": [
    {
     "data": {
      "text/plain": [
       "<matplotlib.axes._subplots.AxesSubplot at 0x84c6be5ac0>"
      ]
     },
     "execution_count": 58,
     "metadata": {},
     "output_type": "execute_result"
    },
    {
     "data": {
      "image/png": "[encoded data removed]",
      "text/plain": [
       "<Figure size 432x288 with 1 Axes>"
      ]
     },
     "metadata": {
      "needs_background": "light"
     },
     "output_type": "display_data"
    }
   ],
   "source": [
    "# above plot is right skewed\n",
    "# Log transformation to make normal distribution\n",
    "\n",
    "df1[\"Total_Income_log\"] = np.log(df1['Total_Income'])\n",
    "df2[\"Total_Income_log\"] = np.log(df2['Total_Income'])\n",
    "\n",
    "# plotting log transformerd Total Income\n",
    "sns.distplot(df1['Total_Income_log'])"
   ]
  },
  {
   "cell_type": "code",
   "execution_count": 59,
   "metadata": {},
   "outputs": [
    {
     "data": {
      "text/plain": [
       "<matplotlib.axes._subplots.AxesSubplot at 0x84c6595df0>"
      ]
     },
     "execution_count": 59,
     "metadata": {},
     "output_type": "execute_result"
    },
    {
     "data": {
      "image/png": "[encoded data removed]",
      "text/plain": [
       "<Figure size 432x288 with 1 Axes>"
      ]
     },
     "metadata": {
      "needs_background": "light"
     },
     "output_type": "display_data"
    }
   ],
   "source": [
    "# Creating EMI Feature\n",
    "\n",
    "df1[\"EMI\"] = df1[\"LoanAmount\"] / df1[\"Loan_Amount_Term\"]\n",
    "df2[\"EMI\"] = df2[\"LoanAmount\"] / df2[\"Loan_Amount_Term\"]\n",
    "\n",
    "# plotting EMI\n",
    "sns.distplot(df1['EMI'])"
   ]
  },
  {
   "cell_type": "code",
   "execution_count": 60,
   "metadata": {},
   "outputs": [
    {
     "data": {
      "text/plain": [
       "<matplotlib.axes._subplots.AxesSubplot at 0x84c61e4c70>"
      ]
     },
     "execution_count": 60,
     "metadata": {},
     "output_type": "execute_result"
    },
    {
     "data": {
      "image/png": "[encoded data removed]",
      "text/plain": [
       "<Figure size 432x288 with 1 Axes>"
      ]
     },
     "metadata": {
      "needs_background": "light"
     },
     "output_type": "display_data"
    }
   ],
   "source": [
    "# Creating Balance Income Feature\n",
    "\n",
    "df1['Balance_Income'] = df1['Total_Income'] - (df1['EMI']*1000) # multiping with 1000 to make units equal\n",
    "df2['Balance_Income'] = df2['Total_Income'] - (df2['EMI']*1000)\n",
    "\n",
    "sns.distplot(df1['Balance_Income'])\n"
   ]
  },
  {
   "cell_type": "code",
   "execution_count": 61,
   "metadata": {},
   "outputs": [],
   "source": [
    "# Removing correlated variables which were used to create new features above -\n",
    "\n",
    "df1 = df1.drop(['ApplicantIncome', 'CoapplicantIncome', 'LoanAmount', 'Loan_Amount_Term'], axis = 1)\n",
    "df2 = df2.drop(['ApplicantIncome', 'CoapplicantIncome', 'LoanAmount', 'Loan_Amount_Term'], axis = 1)"
   ]
  },
  {
   "cell_type": "raw",
   "metadata": {},
   "source": [
    "Explaination for dropping variable which are used to create new features - \n",
    "        1. Correalation between those old features and these new fetures would be very high.\n",
    "        2. Logistic Regression assumes that the variables are not highly correlated.\n",
    "        3. we also want to remove noise from the dataset, so removing correlated features will help in reducing noise too."
   ]
  },
  {
   "cell_type": "markdown",
   "metadata": {},
   "source": [
    "# MODEL BUILDING - II"
   ]
  },
  {
   "cell_type": "code",
   "execution_count": 62,
   "metadata": {},
   "outputs": [],
   "source": [
    "X = df1.drop('Loan_Status', 1)\n",
    "y = df1.Loan_Status"
   ]
  },
  {
   "cell_type": "markdown",
   "metadata": {},
   "source": [
    "# 1. Logistic Forest Model"
   ]
  },
  {
   "cell_type": "code",
   "execution_count": 70,
   "metadata": {},
   "outputs": [
    {
     "name": "stdout",
     "output_type": "stream",
     "text": [
      "\n",
      "1 of kFold 5\n",
      "accuracy_score 0.7967479674796748\n",
      "\n",
      "2 of kFold 5\n",
      "accuracy_score 0.6910569105691057\n",
      "\n",
      "3 of kFold 5\n",
      "accuracy_score 0.6666666666666666\n",
      "\n",
      "4 of kFold 5\n",
      "accuracy_score 0.7804878048780488\n",
      "\n",
      "5 of kFold 5\n",
      "accuracy_score 0.680327868852459\n"
     ]
    }
   ],
   "source": [
    "i = 1\n",
    "skf = StratifiedKFold(n_splits = 5,shuffle = True, random_state = 1)\n",
    "for train_index, test_index in skf.split(X,y):\n",
    "    print('\\n{} of kFold {}'.format(i,skf.n_splits))\n",
    "    \n",
    "    xtr, xvl = X.loc[train_index], X.loc[test_index]\n",
    "    ytr, yvl = y.loc[train_index], y.loc[test_index]\n",
    "    \n",
    "    model = LogisticRegression(random_state = 1) # Creating model for logistic regression\n",
    "    model.fit(xtr, ytr) # model fiting\n",
    "    pred_test = model.predict(xvl) # predicting x_validation\n",
    "    score = accuracy_score(yvl, pred_test) # calculating accuracy score for y_validation\n",
    "    print('accuracy_score', score)\n",
    "    i += 1\n",
    "    pred_test = model.predict(df2)\n",
    "    pred = model.predict_proba(xvl)[:, 1]\n",
    "    \n",
    "    \n",
    "# mean validation accuracy is 0.7231"
   ]
  },
  {
   "cell_type": "code",
   "execution_count": 71,
   "metadata": {},
   "outputs": [],
   "source": [
    "submission['Loan_Status'] = pred_test\n",
    "submission['Loan_ID'] = test[\"Loan_ID\"]\n",
    "\n",
    "# converting 1 & 0  to Y and N\n",
    "submission[\"Loan_Status\"].replace(0,'N', inplace = True)\n",
    "submission[\"Loan_Status\"].replace(1,'Y', inplace = True)\n",
    "\n",
    "# converting to csv file\n",
    "pd.DataFrame(submission, columns = ['Loan_ID', 'Loan_Status']).to_csv(\"Logistic.csv\")\n"
   ]
  },
  {
   "cell_type": "markdown",
   "metadata": {},
   "source": [
    "# 2. Decision Tree Model"
   ]
  },
  {
   "cell_type": "code",
   "execution_count": 72,
   "metadata": {},
   "outputs": [
    {
     "name": "stdout",
     "output_type": "stream",
     "text": [
      "\n",
      "1 of kFold 5\n",
      "accuracy_score 0.7398373983739838\n",
      "\n",
      "2 of kFold 5\n",
      "accuracy_score 0.6991869918699187\n",
      "\n",
      "3 of kFold 5\n",
      "accuracy_score 0.7560975609756098\n",
      "\n",
      "4 of kFold 5\n",
      "accuracy_score 0.7073170731707317\n",
      "\n",
      "5 of kFold 5\n",
      "accuracy_score 0.6721311475409836\n"
     ]
    }
   ],
   "source": [
    "from sklearn import tree\n",
    "i = 1\n",
    "skf = StratifiedKFold(n_splits = 5,shuffle = True, random_state = 1)\n",
    "for train_index, test_index in skf.split(X,y):\n",
    "    print('\\n{} of kFold {}'.format(i,skf.n_splits))\n",
    "    \n",
    "    xtr, xvl = X.loc[train_index], X.loc[test_index]\n",
    "    ytr, yvl = y.loc[train_index], y.loc[test_index]\n",
    "    \n",
    "    model = tree.DecisionTreeClassifier(random_state = 1) # Creating model for Decision Tress\n",
    "    model.fit(xtr, ytr) # model fiting\n",
    "    pred_test = model.predict(xvl) # predicting x_validation\n",
    "    score = accuracy_score(yvl, pred_test) # calculating accuracy score for y_validation\n",
    "    print('accuracy_score', score)\n",
    "    i += 1\n",
    "    pred_test = model.predict(df2)\n",
    "    # pred = model.predict_proba(xvl)[:, 1]\n",
    "\n",
    "    \n",
    "# mean validation accuracy is 0.7149"
   ]
  },
  {
   "cell_type": "code",
   "execution_count": 73,
   "metadata": {},
   "outputs": [],
   "source": [
    "submission['Loan_Status'] = pred_test\n",
    "submission['Loan_ID'] = test[\"Loan_ID\"]\n",
    "\n",
    "# converting 1 & 0  to Y and N\n",
    "submission[\"Loan_Status\"].replace(0,'N', inplace = True)\n",
    "submission[\"Loan_Status\"].replace(1,'Y', inplace = True)\n",
    "\n",
    "# converting to csv file\n",
    "pd.DataFrame(submission, columns = ['Loan_ID', 'Loan_Status']).to_csv(\"Decision_Tree.csv\")\n"
   ]
  },
  {
   "cell_type": "markdown",
   "metadata": {},
   "source": [
    "# 3. Random Forest Model"
   ]
  },
  {
   "cell_type": "code",
   "execution_count": 75,
   "metadata": {},
   "outputs": [
    {
     "name": "stdout",
     "output_type": "stream",
     "text": [
      "\n",
      "1 of kFold 5\n",
      "accuracy_score 0.8292682926829268\n",
      "\n",
      "2 of kFold 5\n",
      "accuracy_score 0.8130081300813008\n",
      "\n",
      "3 of kFold 5\n",
      "accuracy_score 0.7723577235772358\n",
      "\n",
      "4 of kFold 5\n",
      "accuracy_score 0.8048780487804879\n",
      "\n",
      "5 of kFold 5\n",
      "accuracy_score 0.7540983606557377\n"
     ]
    }
   ],
   "source": [
    "from sklearn.ensemble import RandomForestClassifier\n",
    "\n",
    "i = 1\n",
    "skf = StratifiedKFold(n_splits = 5,shuffle = True, random_state = 1)\n",
    "for train_index, test_index in skf.split(X,y):\n",
    "    print('\\n{} of kFold {}'.format(i,skf.n_splits))\n",
    "    \n",
    "    xtr, xvl = X.loc[train_index], X.loc[test_index]\n",
    "    ytr, yvl = y.loc[train_index], y.loc[test_index]\n",
    "    \n",
    "    model = RandomForestClassifier(random_state = 1, max_depth = 10) # Creating model for Random Forest\n",
    "    model.fit(xtr, ytr) # model fiting\n",
    "    pred_test = model.predict(xvl) # predicting x_validation\n",
    "    score = accuracy_score(yvl, pred_test) # calculating accuracy score for y_validation\n",
    "    print('accuracy_score', score)\n",
    "    i += 1\n",
    "    \n",
    "    pred_test = model.predict(df2)\n",
    "    #pred = model.predict_proba(xvl)[:, 1]\n",
    "    \n",
    "\n",
    "# mean validation accuracy is 0.7947"
   ]
  },
  {
   "cell_type": "raw",
   "metadata": {},
   "source": [
    "    \n",
    "    1. To improve the accuracy by tunning the Hyperparameters for this model.\n",
    "    2. we will use grid search to get optimized values of hyperparameter.\n",
    "    3. Grid_Search is a way to select the best of the family of hyperparameters, parametrized by grid of parameters.\n",
    "\n",
    "    4. Here we will tune the max_depth and n_estimators.\n",
    "        max_depth - decides the maximum depth of tree\n",
    "        n_estimators - decides the number of trees that will be used in random forest model\n"
   ]
  },
  {
   "cell_type": "code",
   "execution_count": 76,
   "metadata": {},
   "outputs": [
    {
     "data": {
      "text/plain": [
       "RandomForestClassifier(max_depth=3, n_estimators=41, n_jobs=1, random_state=1)"
      ]
     },
     "execution_count": 76,
     "metadata": {},
     "output_type": "execute_result"
    }
   ],
   "source": [
    "# GridSearchCV\n",
    "\n",
    "from sklearn.model_selection import GridSearchCV\n",
    "\n",
    "# Provide range for max_depth from 1 to 20 with interval of 2 from 1 to 200 with an interval of 20 n_estimator\n",
    "\n",
    "paramgrid = {'max_depth' : list(range(1, 20, 2)), 'n_estimators': list(range(1, 200, 20))}\n",
    "\n",
    "grid_search = GridSearchCV(RandomForestClassifier(random_state = 1), paramgrid)\n",
    "\n",
    "x_train, x_cv, y_test, y_cv = train_test_split(X, y, test_size = 0.3, random_state = 1)\n",
    "\n",
    "# fit the grid search model\n",
    "\n",
    "grid_search.fit(x_train, y_train)\n",
    "\n",
    "GridSearchCV(cv = None, error_score = 'raise',\n",
    "             estimator = RandomForestClassifier(bootstrap = True, class_weight = None,\n",
    "                                               criterion = 'gini', max_depth = None, max_features = 'auto',\n",
    "                                               max_leaf_nodes = None, min_impurity_decrease = 0.0,\n",
    "                                                min_impurity_split = None, min_samples_leaf = 1,\n",
    "                                                min_samples_split = 2, min_weight_fraction_leaf = 0.0,\n",
    "                                                n_estimators = 10, n_jobs = 1, oob_score = False,\n",
    "                                                random_state = 1, verbose = 0, warm_start = False),\n",
    "             iid = True, n_jobs = 1, param_grid = {\"max_depth\" :[1,3,5,7,9,11,13,15,17,19],\n",
    "                                                   'n_estimators': [1,21,41,61,81,101,121,141,161,181]},\n",
    "             pre_dispatch = '2*n_jobs', refit = True, return_train_score = 'warn', scoring = None, verbose = 0)\n",
    "\n",
    "# GridSearchCV(estimator, param_grid, scoring=None, n_jobs=None, iid='deprecated', refit=True, cv=None, \n",
    "#             verbose=0, pre_dispatch='2*n_jobs', error_score=nan, return_train_score=False)\n",
    "\n",
    "\n",
    "# estimating the optimized value \n",
    "grid_search.best_estimator_\n",
    "RandomForestClassifier(bootstrap = True, class_weight = None,\n",
    "                                               criterion = 'gini', max_depth = 3, max_features = 'auto',\n",
    "                                               max_leaf_nodes = None, min_impurity_decrease = 0.0,\n",
    "                                                min_impurity_split = None, min_samples_leaf = 1,\n",
    "                                                min_samples_split = 2, min_weight_fraction_leaf = 0.0,\n",
    "                                                n_estimators = 41, n_jobs = 1, oob_score = False,\n",
    "                                                random_state = 1, verbose = 0, warm_start = False)"
   ]
  },
  {
   "cell_type": "code",
   "execution_count": 77,
   "metadata": {},
   "outputs": [
    {
     "name": "stdout",
     "output_type": "stream",
     "text": [
      "\n",
      "1 of kFold 5\n",
      "accuracy_score 0.8130081300813008\n",
      "\n",
      "2 of kFold 5\n",
      "accuracy_score 0.8455284552845529\n",
      "\n",
      "3 of kFold 5\n",
      "accuracy_score 0.8048780487804879\n",
      "\n",
      "4 of kFold 5\n",
      "accuracy_score 0.7967479674796748\n",
      "\n",
      "5 of kFold 5\n",
      "accuracy_score 0.7786885245901639\n"
     ]
    }
   ],
   "source": [
    "i = 1\n",
    "skf = StratifiedKFold(n_splits = 5,shuffle = True, random_state = 1)\n",
    "for train_index, test_index in skf.split(X,y):\n",
    "    print('\\n{} of kFold {}'.format(i,skf.n_splits))\n",
    "    \n",
    "    xtr, xvl = X.loc[train_index], X.loc[test_index]\n",
    "    ytr, yvl = y.loc[train_index], y.loc[test_index]\n",
    "    \n",
    "    model = RandomForestClassifier(random_state = 1, max_depth = 3, n_estimators = 41) # Creating model for Random Forest\n",
    "    model.fit(xtr, ytr) # model fiting\n",
    "    pred_test = model.predict(xvl) # predicting x_validation\n",
    "    score = accuracy_score(yvl, pred_test) # calculating accuracy score for y_validation\n",
    "    print('accuracy_score', score)\n",
    "    i += 1\n",
    "    \n",
    "    pred_test = model.predict(df2)\n",
    "    pred2 = model.predict_proba(df2)[:, 1]\n",
    "\n",
    "    \n",
    "# mean validation acuracy is 0.8078"
   ]
  },
  {
   "cell_type": "code",
   "execution_count": 78,
   "metadata": {},
   "outputs": [],
   "source": [
    "submission['Loan_Status'] = pred_test\n",
    "submission['Loan_ID'] = test[\"Loan_ID\"]\n",
    "\n",
    "# converting 1 & 0  to Y and N\n",
    "submission[\"Loan_Status\"].replace(0,'N', inplace = True)\n",
    "submission[\"Loan_Status\"].replace(1,'Y', inplace = True)\n",
    "\n",
    "# converting to csv file\n",
    "pd.DataFrame(submission, columns = ['Loan_ID', 'Loan_Status']).to_csv(\"RandomForest.csv\")"
   ]
  },
  {
   "cell_type": "code",
   "execution_count": 79,
   "metadata": {},
   "outputs": [
    {
     "data": {
      "text/plain": [
       "<matplotlib.axes._subplots.AxesSubplot at 0x84c8695a90>"
      ]
     },
     "execution_count": 79,
     "metadata": {},
     "output_type": "execute_result"
    },
    {
     "data": {
      "image/png": "[encoded data removed]",
      "text/plain": [
       "<Figure size 864x576 with 1 Axes>"
      ]
     },
     "metadata": {
      "needs_background": "light"
     },
     "output_type": "display_data"
    }
   ],
   "source": [
    "imp = pd.Series(model.feature_importances_, index = X.columns)\n",
    "imp.plot(kind = 'barh', figsize = (12,8))"
   ]
  },
  {
   "cell_type": "raw",
   "metadata": {},
   "source": [
    "    Credit History is most important feature followed by Balance Income, Total Income, EMI.\n",
    "    so feature engineering helped us in predicting out target"
   ]
  },
  {
   "cell_type": "markdown",
   "metadata": {},
   "source": [
    "# 4. XGBoost Model"
   ]
  },
  {
   "cell_type": "code",
   "execution_count": 80,
   "metadata": {},
   "outputs": [
    {
     "name": "stdout",
     "output_type": "stream",
     "text": [
      "\n",
      "1 of kFold 5\n",
      "accuracy_score 0.7886178861788617\n",
      "\n",
      "2 of kFold 5\n",
      "accuracy_score 0.7479674796747967\n",
      "\n",
      "3 of kFold 5\n",
      "accuracy_score 0.7560975609756098\n",
      "\n",
      "4 of kFold 5\n",
      "accuracy_score 0.7560975609756098\n",
      "\n",
      "5 of kFold 5\n",
      "accuracy_score 0.7295081967213115\n"
     ]
    }
   ],
   "source": [
    "from xgboost import XGBClassifier # importing library for XGBoost\n",
    "\n",
    "i = 1\n",
    "skf = StratifiedKFold(n_splits = 5,shuffle = True, random_state = 1)\n",
    "for train_index, test_index in skf.split(X,y):\n",
    "    print('\\n{} of kFold {}'.format(i,skf.n_splits))\n",
    "    \n",
    "    xtr, xvl = X.loc[train_index], X.loc[test_index]\n",
    "    ytr, yvl = y.loc[train_index], y.loc[test_index]\n",
    "    \n",
    "    model = XGBClassifier(random_state = 1) # Creating model for XGBoost\n",
    "    model.fit(xtr, ytr) # model fiting\n",
    "    pred_test = model.predict(xvl) # predicting x_validation\n",
    "    score = accuracy_score(yvl, pred_test) # calculating accuracy score for y_validation\n",
    "    print('accuracy_score', score)\n",
    "    i += 1\n",
    "    pred_test = model.predict(df2)\n",
    "    pred3 = model.predict_proba(df2)[:, 1]\n",
    "    \n",
    "\n",
    "# mean validation acuracy  for this model is 0.7557"
   ]
  },
  {
   "cell_type": "code",
   "execution_count": 81,
   "metadata": {},
   "outputs": [],
   "source": [
    "submission['Loan_Status'] = pred_test\n",
    "submission['Loan_ID'] = test[\"Loan_ID\"]\n",
    "\n",
    "# converting 1 & 0  to Y and N\n",
    "submission[\"Loan_Status\"].replace(0,'N', inplace = True)\n",
    "submission[\"Loan_Status\"].replace(1,'Y', inplace = True)\n",
    "\n",
    "# converting to csv file\n",
    "pd.DataFrame(submission, columns = ['Loan_ID', 'Loan_Status']).to_csv(\"XGBoost.csv\")"
   ]
  },
  {
   "cell_type": "code",
   "execution_count": null,
   "metadata": {},
   "outputs": [],
   "source": []
  }
 ],
 "metadata": {
  "kernelspec": {
   "display_name": "Python 3",
   "language": "python",
   "name": "python3"
  },
  "language_info": {
   "codemirror_mode": {
    "name": "ipython",
    "version": 3
   },
   "file_extension": ".py",
   "mimetype": "text/x-python",
   "name": "python",
   "nbconvert_exporter": "python",
   "pygments_lexer": "ipython3",
   "version": "3.8.3"
  }
 },
 "nbformat": 4,
 "nbformat_minor": 4
}
